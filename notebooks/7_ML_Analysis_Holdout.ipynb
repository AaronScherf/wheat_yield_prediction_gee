{
 "cells": [
  {
   "cell_type": "markdown",
   "metadata": {
    "colab_type": "text",
    "id": "view-in-github"
   },
   "source": [
    "<a href=\"https://colab.research.google.com/github/AaronScherf/gxe-gee-lmm/blob/master/7_ML_Analysis_Holdout.ipynb\" target=\"_parent\"><img src=\"https://colab.research.google.com/assets/colab-badge.svg\" alt=\"Open In Colab\"/></a>"
   ]
  },
  {
   "cell_type": "markdown",
   "metadata": {
    "colab_type": "text",
    "id": "-glzJ-snrnS0"
   },
   "source": [
    "# Comparison of Machine Learning Models for Crop Selection"
   ]
  },
  {
   "cell_type": "markdown",
   "metadata": {
    "colab_type": "text",
    "id": "l2DFiRk4rt1W"
   },
   "source": [
    "Testing cross-validation frameworks, feature engineering, feature selection, and SciKitLearn machine learning system with linear regression models.\n",
    "\n",
    "Also doing an initial check on the differences between CIMMYT environmental data and Earth Engine remote sensing data for a linear model."
   ]
  },
  {
   "cell_type": "code",
   "execution_count": null,
   "metadata": {
    "colab": {},
    "colab_type": "code",
    "id": "huO-_91V7wP6"
   },
   "outputs": [],
   "source": [
    "# To connect to a local runtime:\n",
    "# https://research.google.com/colaboratory/local-runtimes.html\n",
    "\n",
    "# Run the following from the command line on your local machine:\n",
    "\n",
    "# pip install jupyter_http_over_ws\n",
    "# jupyter serverextension enable --py jupyter_http_over_ws\n",
    "\n",
    "# conda create -n gxe_gee python=3.7 ipykernel jupyter anaconda\n",
    "# conda activate gxe_gee\n",
    "# ipython kernel install --name gxe_gee --user\n",
    "\n",
    "# jupyter notebook \\ --NotebookApp.allow_origin='https://colab.research.google.com' \\ --port=8891 \\ --NotebookApp.port_retries=0\n",
    "# jupyter notebook --NotebookApp.allow_origin='https://colab.research.google.com' --port=8891 --NotebookApp.port_retries=0\n",
    "\n",
    "# If you run into issues connecting with a local kernel, try changing the port number"
   ]
  },
  {
   "cell_type": "markdown",
   "metadata": {
    "colab_type": "text",
    "id": "pEj4NsR6r-iP"
   },
   "source": [
    "## Setting up the Environment"
   ]
  },
  {
   "cell_type": "code",
   "execution_count": 1,
   "metadata": {
    "colab": {},
    "colab_type": "code",
    "id": "-gn_qLmDKWAZ"
   },
   "outputs": [],
   "source": [
    "# Install Packages\n",
    "\n",
    "# Import Packages\n",
    "import os\n",
    "import pandas as pd\n",
    "import re\n",
    "import seaborn as sns\n",
    "import matplotlib.pyplot as plt\n",
    "import numpy as np\n",
    "from numpy import array\n",
    "import sklearn\n",
    "from sklearn.model_selection import train_test_split, GridSearchCV\n",
    "from sklearn import linear_model, preprocessing\n",
    "\n",
    "DISPLAY_PRECISION = 4\n",
    "pd.set_option(\"display.precision\", DISPLAY_PRECISION)"
   ]
  },
  {
   "cell_type": "code",
   "execution_count": 2,
   "metadata": {
    "colab": {
     "base_uri": "https://localhost:8080/",
     "height": 121
    },
    "colab_type": "code",
    "id": "ps8iAXNHKgUI",
    "outputId": "9063b9ab-7bd0-4657-c98b-a5c98cb65a72"
   },
   "outputs": [
    {
     "name": "stdout",
     "output_type": "stream",
     "text": [
      "Go to this URL in a browser: https://accounts.google.com/o/oauth2/auth?client_id=947318989803-6bn6qk8qdgf4n4g3pfee6491hc0brc4i.apps.googleusercontent.com&redirect_uri=urn%3aietf%3awg%3aoauth%3a2.0%3aoob&response_type=code&scope=email%20https%3a%2f%2fwww.googleapis.com%2fauth%2fdocs.test%20https%3a%2f%2fwww.googleapis.com%2fauth%2fdrive%20https%3a%2f%2fwww.googleapis.com%2fauth%2fdrive.photos.readonly%20https%3a%2f%2fwww.googleapis.com%2fauth%2fpeopleapi.readonly\n",
      "\n",
      "Enter your authorization code:\n",
      "··········\n",
      "Mounted at /content/drive\n"
     ]
    }
   ],
   "source": [
    "# Mount User's Drive\n",
    "# Copy and paste the passkey from your Google account\n",
    "# You should use the same account that is operating the Colab file\n",
    "# Ignore if you aren't accessing this file in Google Colab\n",
    "\n",
    "# from google.colab import drive\n",
    "# drive.mount('/content/drive', force_remount=True)"
   ]
  },
  {
   "cell_type": "code",
   "execution_count": 3,
   "metadata": {
    "colab": {
     "base_uri": "https://localhost:8080/",
     "height": 34
    },
    "colab_type": "code",
    "id": "dBamFnNUKnw3",
    "outputId": "89729316-e799-4a17-f4fb-7400655940f3"
   },
   "outputs": [
    {
     "data": {
      "text/plain": [
       "'/content/drive/My Drive/Research/GxE with GEE'"
      ]
     },
     "execution_count": 3,
     "metadata": {
      "tags": []
     },
     "output_type": "execute_result"
    }
   ],
   "source": [
    "# parent_dir_name = 'GxE with GEE'\n",
    "\n",
    "# for dirpath, subdirs, files in os.walk('/content'):\n",
    "#   if parent_dir_name in subdirs:\n",
    "#     parent_path = dirpath + \"/\" + parent_dir_name\n",
    "\n",
    "# parent_path"
   ]
  },
  {
   "cell_type": "code",
   "execution_count": 2,
   "metadata": {
    "colab": {
     "base_uri": "https://localhost:8080/",
     "height": 34
    },
    "colab_type": "code",
    "id": "J7adUcl9Ksjs",
    "outputId": "97ec913f-a81e-4490-8e80-5e8d46045b01"
   },
   "outputs": [
    {
     "data": {
      "text/plain": [
       "'/home/jupyter/gxe-gee-lmm'"
      ]
     },
     "execution_count": 2,
     "metadata": {},
     "output_type": "execute_result"
    }
   ],
   "source": [
    "# Set Data Path\n",
    "## Change the destination to your Drive directory containing the folder 'raw_data.zip'\n",
    "# data_path_end = '/Colab Workspace/Data'\n",
    "# os.chdir(parent_path + data_path_end)\n",
    "\n",
    "# # Print the current working directory\n",
    "os.getcwd()"
   ]
  },
  {
   "cell_type": "code",
   "execution_count": null,
   "metadata": {
    "colab": {},
    "colab_type": "code",
    "id": "iU8Rhxtwn9vd"
   },
   "outputs": [],
   "source": [
    "os.chdir('C:/Users/theaa/Downloads/gxe_pkl')"
   ]
  },
  {
   "cell_type": "markdown",
   "metadata": {
    "colab_type": "text",
    "id": "c5j-GiUAA2DJ"
   },
   "source": [
    "## Import Selected Versions of Data"
   ]
  },
  {
   "cell_type": "code",
   "execution_count": 2,
   "metadata": {
    "colab": {},
    "colab_type": "code",
    "id": "gqThYUUiEhY0"
   },
   "outputs": [],
   "source": [
    "y_train_model = pd.read_pickle('y_train_scaled.pkl')\n",
    "y_test_model = pd.read_pickle('y_test_scaled.pkl')\n",
    "y_holdout_model = pd.read_pickle('y_holdout_scaled.pkl')"
   ]
  },
  {
   "cell_type": "code",
   "execution_count": 3,
   "metadata": {
    "cellView": "form",
    "colab": {},
    "colab_type": "code",
    "id": "3G-RdW9X9qse"
   },
   "outputs": [],
   "source": [
    "#@title Choose Data Type for Models\n",
    "\n",
    "Data = 'CIMMYT Environment and PCs' #@param [\"CIMMYT Environment\", \"CIMMYT Environment and COP Values\", \"CIMMYT Environment and PCs\", \"GEE Environment\", \"GEE Environment and COP Values\", \"GEE Environment and PCs\", \"Both Environment\", \"Both Environment and COP Values\", \"Both Environment and PCs\"]\n",
    "\n",
    "if Data == 'CIMMYT Environment' :\n",
    "    X_train_model = pd.read_pickle('X_train_scaled.pkl')\n",
    "    X_test_model = pd.read_pickle('X_test_scaled.pkl')\n",
    "    X_holdout_model = pd.read_pickle('X_holdout_scaled.pkl')\n",
    "\n",
    "# if Data == 'CIMMYT Environment and COP Values' :\n",
    "#   X_train_model = pd.read_pickle('X_train_scaled_GID.pkl')\n",
    "#   X_test_model = pd.read_pickle('X_test_scaled_GID.pkl')\n",
    "#   X_holdout_model = pd.read_pickle('X_holdout_scaled_GID.pkl')\n",
    "\n",
    "if Data == 'CIMMYT Environment and PCs' :\n",
    "    X_train_model = pd.read_pickle('X_train_scaled_PCA.pkl')\n",
    "    X_test_model = pd.read_pickle('X_test_scaled_PCA.pkl')\n",
    "    X_holdout_model = pd.read_pickle('X_holdout_scaled_PCA.pkl')\n",
    "\n",
    "# if Data == 'GEE Environment' :\n",
    "#     X_train_model = pd.read_pickle('X_train_gee_scaled.pkl')\n",
    "#     X_test_model = pd.read_pickle('X_test_gee_scaled.pkl')\n",
    "#     X_holdout_model = pd.read_pickle('X_holdout_gee_scaled.pkl')\n",
    "\n",
    "# if Data == 'GEE Environment and COP Values' :\n",
    "#   X_train_model = pd.read_pickle('X_train_gee_scaled_GID.pkl')\n",
    "#   X_test_model = pd.read_pickle('X_test_gee_scaled_GID.pkl')\n",
    "#   X_holdout_model = pd.read_pickle('X_holdout_gee_scaled_GID.pkl')\n",
    "\n",
    "# if Data == 'GEE Environment and PCs' :\n",
    "#   X_train_model = pd.read_pickle('X_train_gee_scaled_PCA.pkl')\n",
    "#   X_test_model = pd.read_pickle('X_test_gee_scaled_PCA.pkl')\n",
    "#   X_holdout_model = pd.read_pickle('X_holdout_gee_scaled_PCA.pkl')\n",
    "\n",
    "# if Data == 'Both Environment' :\n",
    "#   X_train_model = pd.read_pickle('X_train_combined.pkl')\n",
    "#   X_test_model = pd.read_pickle('X_test_combined.pkl')\n",
    "#   X_holdout_model = pd.read_pickle('X_holdout_combined.pkl')\n",
    "\n",
    "# if Data == 'Both Environment and COP Values' :\n",
    "#   X_train_model = pd.read_pickle('X_train_combined_GID.pkl')\n",
    "#   X_test_model = pd.read_pickle('X_test_combined_GID.pkl')\n",
    "#   X_holdout_model = pd.read_pickle('X_holdout_combined_GID.pkl')\n",
    "\n",
    "# if Data == 'Both Environment and PCs' :\n",
    "#   X_train_model = pd.read_pickle('X_train_combined_PCA.pkl')\n",
    "#   X_test_model = pd.read_pickle('X_test_combined_PCA.pkl')\n",
    "#   X_holdout_model = pd.read_pickle('X_holdout_combined_PCA.pkl')"
   ]
  },
  {
   "cell_type": "code",
   "execution_count": null,
   "metadata": {
    "cellView": "form",
    "colab": {},
    "colab_type": "code",
    "id": "q7YjWrtewjek"
   },
   "outputs": [],
   "source": [
    "#@title Select Sample of Data for Models\n",
    "SAMPLE_SIZE = 1 #@param {type:\"slider\", min:0, max:1, step:0.1}\n",
    "\n",
    "X_train_model = X_train_model.sample(frac= SAMPLE_SIZE,random_state=123)\n",
    "X_test_model = X_test_model.sample(frac= SAMPLE_SIZE,random_state=123)\n",
    "y_train_model = y_train_model.sample(frac= SAMPLE_SIZE,random_state=123)\n",
    "y_test_model = y_test_model.sample(frac= SAMPLE_SIZE,random_state=123)"
   ]
  },
  {
   "cell_type": "code",
   "execution_count": 205,
   "metadata": {
    "colab": {
     "base_uri": "https://localhost:8080/",
     "height": 34
    },
    "colab_type": "code",
    "id": "tvWk6ISsC1We",
    "outputId": "27d5f6a7-71c2-4750-e381-1dc9943496c6"
   },
   "outputs": [
    {
     "data": {
      "text/plain": [
       "(122484, 158)"
      ]
     },
     "execution_count": 205,
     "metadata": {
      "tags": []
     },
     "output_type": "execute_result"
    }
   ],
   "source": [
    "X_train_model.shape"
   ]
  },
  {
   "cell_type": "markdown",
   "metadata": {
    "colab_type": "text",
    "id": "G2Flk6qFcZW1"
   },
   "source": [
    "## Feature Selection to Speed Convergence\n",
    "\n",
    "https://scikit-learn.org/stable/modules/feature_selection.html#univariate-feature-selection"
   ]
  },
  {
   "cell_type": "code",
   "execution_count": null,
   "metadata": {
    "colab": {},
    "colab_type": "code",
    "id": "_wlu_4NxY6l-"
   },
   "outputs": [],
   "source": [
    "# https://scikit-learn.org/stable/modules/generated/sklearn.ensemble.ExtraTreesRegressor.html\n",
    "from sklearn.ensemble import ExtraTreesRegressor\n",
    "\n",
    "# https://scikit-learn.org/stable/modules/generated/sklearn.feature_selection.SelectFromModel.html#sklearn.feature_selection.SelectFromModel\n",
    "from sklearn.feature_selection import SelectFromModel\n",
    "\n",
    "clf = ExtraTreesRegressor(n_estimators=700)\n",
    "clf = clf.fit(X_train_model, y_train_model.values.ravel())"
   ]
  },
  {
   "cell_type": "code",
   "execution_count": 266,
   "metadata": {
    "colab": {
     "base_uri": "https://localhost:8080/",
     "height": 67
    },
    "colab_type": "code",
    "id": "jTxaxeC7Y-Ny",
    "outputId": "8ce80b92-ada8-4f91-9e44-b48e253fe27b"
   },
   "outputs": [
    {
     "name": "stdout",
     "output_type": "stream",
     "text": [
      "0.8837775028191321\n",
      "0.3409142079480815\n",
      "0.11395182641204941\n"
     ]
    }
   ],
   "source": [
    "clf_train_pred = clf.predict(X_train_model)\n",
    "\n",
    "print(metrics.r2_score(y_train_model, clf_train_pred))\n",
    "print(np.sqrt(metrics.mean_squared_error(y_train_model, clf_train_pred)))\n",
    "print(metrics.mean_absolute_error(y_train_model, clf_train_pred))"
   ]
  },
  {
   "cell_type": "code",
   "execution_count": 267,
   "metadata": {
    "colab": {
     "base_uri": "https://localhost:8080/",
     "height": 34
    },
    "colab_type": "code",
    "id": "-gbY0jj3YZW5",
    "outputId": "3ad7d044-79dc-4b89-83df-6b610e763ce1"
   },
   "outputs": [
    {
     "data": {
      "text/plain": [
       "(122484, 220)"
      ]
     },
     "execution_count": 267,
     "metadata": {
      "tags": []
     },
     "output_type": "execute_result"
    }
   ],
   "source": [
    "model = SelectFromModel(clf, prefit=True, threshold=\"median\")\n",
    "X_new_rf = model.transform(X_train_model)\n",
    "X_new_rf.shape"
   ]
  },
  {
   "cell_type": "code",
   "execution_count": 268,
   "metadata": {
    "colab": {
     "base_uri": "https://localhost:8080/",
     "height": 468
    },
    "colab_type": "code",
    "id": "FemNZ4biln0L",
    "outputId": "a1940a43-19d8-46bb-85cc-d45f744e28fb"
   },
   "outputs": [
    {
     "data": {
      "text/html": [
       "<div>\n",
       "<style scoped>\n",
       "    .dataframe tbody tr th:only-of-type {\n",
       "        vertical-align: middle;\n",
       "    }\n",
       "\n",
       "    .dataframe tbody tr th {\n",
       "        vertical-align: top;\n",
       "    }\n",
       "\n",
       "    .dataframe thead th {\n",
       "        text-align: right;\n",
       "    }\n",
       "</style>\n",
       "<table border=\"1\" class=\"dataframe\">\n",
       "  <thead>\n",
       "    <tr style=\"text-align: right;\">\n",
       "      <th></th>\n",
       "      <th>(total_precipitation, 0)</th>\n",
       "      <th>(total_precipitation, 1)</th>\n",
       "      <th>(total_precipitation, 2)</th>\n",
       "      <th>(total_precipitation, 3)</th>\n",
       "      <th>(total_precipitation, 4)</th>\n",
       "      <th>(total_precipitation, 5)</th>\n",
       "      <th>(total_precipitation, 6)</th>\n",
       "      <th>(total_precipitation, 7)</th>\n",
       "      <th>(total_precipitation, 8)</th>\n",
       "      <th>(total_precipitation, 9)</th>\n",
       "      <th>...</th>\n",
       "      <th>(tmmn, 9)</th>\n",
       "      <th>(tmmx, 4)</th>\n",
       "      <th>(tmmx, 6)</th>\n",
       "      <th>(tmmx, 7)</th>\n",
       "      <th>(tmmx, 8)</th>\n",
       "      <th>(tmmx, 9)</th>\n",
       "      <th>(av_altitude, 0)</th>\n",
       "      <th>PC_0</th>\n",
       "      <th>PC_2</th>\n",
       "      <th>PC_3</th>\n",
       "    </tr>\n",
       "    <tr>\n",
       "      <th>Unique_ID</th>\n",
       "      <th></th>\n",
       "      <th></th>\n",
       "      <th></th>\n",
       "      <th></th>\n",
       "      <th></th>\n",
       "      <th></th>\n",
       "      <th></th>\n",
       "      <th></th>\n",
       "      <th></th>\n",
       "      <th></th>\n",
       "      <th></th>\n",
       "      <th></th>\n",
       "      <th></th>\n",
       "      <th></th>\n",
       "      <th></th>\n",
       "      <th></th>\n",
       "      <th></th>\n",
       "      <th></th>\n",
       "      <th></th>\n",
       "      <th></th>\n",
       "      <th></th>\n",
       "    </tr>\n",
       "  </thead>\n",
       "  <tbody>\n",
       "    <tr>\n",
       "      <th>8HTYWT_11001_69587_51</th>\n",
       "      <td>-0.7026</td>\n",
       "      <td>-0.7752</td>\n",
       "      <td>-0.7795</td>\n",
       "      <td>-7.2153e-01</td>\n",
       "      <td>-0.6566</td>\n",
       "      <td>-0.5437</td>\n",
       "      <td>-0.1091</td>\n",
       "      <td>2.4180</td>\n",
       "      <td>1.0002</td>\n",
       "      <td>0.4195</td>\n",
       "      <td>...</td>\n",
       "      <td>0.1474</td>\n",
       "      <td>0.8214</td>\n",
       "      <td>0.6954</td>\n",
       "      <td>0.4212</td>\n",
       "      <td>0.2314</td>\n",
       "      <td>-0.0349</td>\n",
       "      <td>0.5111</td>\n",
       "      <td>76.5696</td>\n",
       "      <td>-31.0921</td>\n",
       "      <td>-26.0202</td>\n",
       "    </tr>\n",
       "    <tr>\n",
       "      <th>21ESWYT_53014_8890_1549</th>\n",
       "      <td>-0.3241</td>\n",
       "      <td>-0.3316</td>\n",
       "      <td>-0.0125</td>\n",
       "      <td>1.3344e+00</td>\n",
       "      <td>1.3858</td>\n",
       "      <td>1.9809</td>\n",
       "      <td>0.8296</td>\n",
       "      <td>-0.1272</td>\n",
       "      <td>-0.2443</td>\n",
       "      <td>-0.7650</td>\n",
       "      <td>...</td>\n",
       "      <td>-0.5847</td>\n",
       "      <td>0.9032</td>\n",
       "      <td>0.4444</td>\n",
       "      <td>0.1504</td>\n",
       "      <td>-0.1442</td>\n",
       "      <td>-0.3253</td>\n",
       "      <td>2.0024</td>\n",
       "      <td>58.4852</td>\n",
       "      <td>-13.1803</td>\n",
       "      <td>32.3064</td>\n",
       "    </tr>\n",
       "    <tr>\n",
       "      <th>18SAWYT_22207_486152_105</th>\n",
       "      <td>-0.4656</td>\n",
       "      <td>-0.6741</td>\n",
       "      <td>-0.0264</td>\n",
       "      <td>-5.3680e-01</td>\n",
       "      <td>-0.6758</td>\n",
       "      <td>-0.4184</td>\n",
       "      <td>-0.7728</td>\n",
       "      <td>1.9565</td>\n",
       "      <td>1.0078</td>\n",
       "      <td>1.1427</td>\n",
       "      <td>...</td>\n",
       "      <td>1.1790</td>\n",
       "      <td>0.4124</td>\n",
       "      <td>1.1975</td>\n",
       "      <td>0.7985</td>\n",
       "      <td>0.6172</td>\n",
       "      <td>0.7135</td>\n",
       "      <td>-0.4948</td>\n",
       "      <td>-30.1181</td>\n",
       "      <td>15.3584</td>\n",
       "      <td>-10.4601</td>\n",
       "    </tr>\n",
       "    <tr>\n",
       "      <th>7ESWYT_51010_7741_7</th>\n",
       "      <td>1.8093</td>\n",
       "      <td>1.8920</td>\n",
       "      <td>0.6013</td>\n",
       "      <td>5.8278e-01</td>\n",
       "      <td>-0.4668</td>\n",
       "      <td>-0.4963</td>\n",
       "      <td>-0.4948</td>\n",
       "      <td>-0.6454</td>\n",
       "      <td>0.1436</td>\n",
       "      <td>-0.3741</td>\n",
       "      <td>...</td>\n",
       "      <td>-0.6734</td>\n",
       "      <td>-0.5693</td>\n",
       "      <td>-0.5196</td>\n",
       "      <td>-0.5074</td>\n",
       "      <td>-0.3067</td>\n",
       "      <td>-0.3141</td>\n",
       "      <td>-0.7995</td>\n",
       "      <td>14.0330</td>\n",
       "      <td>-2.3935</td>\n",
       "      <td>-39.7941</td>\n",
       "    </tr>\n",
       "    <tr>\n",
       "      <th>8SAWYT_19314_289455_7</th>\n",
       "      <td>-0.0010</td>\n",
       "      <td>0.0006</td>\n",
       "      <td>0.0007</td>\n",
       "      <td>9.1749e-05</td>\n",
       "      <td>-0.0010</td>\n",
       "      <td>-0.0005</td>\n",
       "      <td>-0.0011</td>\n",
       "      <td>-0.0008</td>\n",
       "      <td>-0.0014</td>\n",
       "      <td>-0.0011</td>\n",
       "      <td>...</td>\n",
       "      <td>0.0028</td>\n",
       "      <td>0.0007</td>\n",
       "      <td>0.0024</td>\n",
       "      <td>0.0034</td>\n",
       "      <td>0.0040</td>\n",
       "      <td>0.0038</td>\n",
       "      <td>-0.0010</td>\n",
       "      <td>3.8489</td>\n",
       "      <td>-19.7375</td>\n",
       "      <td>-17.2028</td>\n",
       "    </tr>\n",
       "    <tr>\n",
       "      <th>...</th>\n",
       "      <td>...</td>\n",
       "      <td>...</td>\n",
       "      <td>...</td>\n",
       "      <td>...</td>\n",
       "      <td>...</td>\n",
       "      <td>...</td>\n",
       "      <td>...</td>\n",
       "      <td>...</td>\n",
       "      <td>...</td>\n",
       "      <td>...</td>\n",
       "      <td>...</td>\n",
       "      <td>...</td>\n",
       "      <td>...</td>\n",
       "      <td>...</td>\n",
       "      <td>...</td>\n",
       "      <td>...</td>\n",
       "      <td>...</td>\n",
       "      <td>...</td>\n",
       "      <td>...</td>\n",
       "      <td>...</td>\n",
       "      <td>...</td>\n",
       "    </tr>\n",
       "    <tr>\n",
       "      <th>19ESWYT_22611_67297_23</th>\n",
       "      <td>-0.6801</td>\n",
       "      <td>-0.3088</td>\n",
       "      <td>-0.0470</td>\n",
       "      <td>-3.4854e-01</td>\n",
       "      <td>-0.6727</td>\n",
       "      <td>-0.6835</td>\n",
       "      <td>-0.5377</td>\n",
       "      <td>0.2413</td>\n",
       "      <td>-0.2914</td>\n",
       "      <td>-0.1292</td>\n",
       "      <td>...</td>\n",
       "      <td>1.1901</td>\n",
       "      <td>0.3469</td>\n",
       "      <td>1.0669</td>\n",
       "      <td>1.0500</td>\n",
       "      <td>1.0537</td>\n",
       "      <td>0.9592</td>\n",
       "      <td>-0.6161</td>\n",
       "      <td>-18.3712</td>\n",
       "      <td>-6.3413</td>\n",
       "      <td>5.8607</td>\n",
       "    </tr>\n",
       "    <tr>\n",
       "      <th>36ESWYT_51002_546353_47</th>\n",
       "      <td>0.6813</td>\n",
       "      <td>-0.4153</td>\n",
       "      <td>0.1412</td>\n",
       "      <td>-1.6435e-01</td>\n",
       "      <td>-0.2636</td>\n",
       "      <td>-0.3292</td>\n",
       "      <td>-0.4744</td>\n",
       "      <td>0.1819</td>\n",
       "      <td>-0.7711</td>\n",
       "      <td>-0.4113</td>\n",
       "      <td>...</td>\n",
       "      <td>-1.0839</td>\n",
       "      <td>-0.7492</td>\n",
       "      <td>-0.9614</td>\n",
       "      <td>-1.2619</td>\n",
       "      <td>-1.3117</td>\n",
       "      <td>-1.1853</td>\n",
       "      <td>-0.6852</td>\n",
       "      <td>2.6463</td>\n",
       "      <td>-3.1209</td>\n",
       "      <td>1.4841</td>\n",
       "    </tr>\n",
       "    <tr>\n",
       "      <th>11ESWYT_50202_8105_13</th>\n",
       "      <td>1.1149</td>\n",
       "      <td>1.4587</td>\n",
       "      <td>4.1661</td>\n",
       "      <td>2.2685e+00</td>\n",
       "      <td>0.1901</td>\n",
       "      <td>0.8803</td>\n",
       "      <td>-0.0436</td>\n",
       "      <td>0.3189</td>\n",
       "      <td>0.7493</td>\n",
       "      <td>0.7113</td>\n",
       "      <td>...</td>\n",
       "      <td>-0.2963</td>\n",
       "      <td>-0.1275</td>\n",
       "      <td>-0.4694</td>\n",
       "      <td>-0.4397</td>\n",
       "      <td>-0.4183</td>\n",
       "      <td>-0.3811</td>\n",
       "      <td>0.1091</td>\n",
       "      <td>-48.0999</td>\n",
       "      <td>-2.7181</td>\n",
       "      <td>4.2465</td>\n",
       "    </tr>\n",
       "    <tr>\n",
       "      <th>22ESWYT_22606_260140_84</th>\n",
       "      <td>-0.6981</td>\n",
       "      <td>-0.7794</td>\n",
       "      <td>-0.6778</td>\n",
       "      <td>-5.9266e-01</td>\n",
       "      <td>0.0409</td>\n",
       "      <td>-0.3897</td>\n",
       "      <td>-0.6702</td>\n",
       "      <td>-0.9174</td>\n",
       "      <td>-0.9562</td>\n",
       "      <td>-0.8860</td>\n",
       "      <td>...</td>\n",
       "      <td>-1.0728</td>\n",
       "      <td>-0.1930</td>\n",
       "      <td>-1.1623</td>\n",
       "      <td>-0.9234</td>\n",
       "      <td>-0.7635</td>\n",
       "      <td>-0.2806</td>\n",
       "      <td>1.6355</td>\n",
       "      <td>68.0603</td>\n",
       "      <td>14.4407</td>\n",
       "      <td>16.7362</td>\n",
       "    </tr>\n",
       "    <tr>\n",
       "      <th>19ESWYT_51003_122456_3</th>\n",
       "      <td>1.9070</td>\n",
       "      <td>0.3984</td>\n",
       "      <td>-0.3627</td>\n",
       "      <td>-5.1712e-01</td>\n",
       "      <td>0.1945</td>\n",
       "      <td>-0.6210</td>\n",
       "      <td>0.3681</td>\n",
       "      <td>-0.3984</td>\n",
       "      <td>-0.0621</td>\n",
       "      <td>-0.2708</td>\n",
       "      <td>...</td>\n",
       "      <td>-0.5181</td>\n",
       "      <td>-0.5529</td>\n",
       "      <td>-0.5899</td>\n",
       "      <td>-0.4107</td>\n",
       "      <td>-0.4995</td>\n",
       "      <td>-0.3364</td>\n",
       "      <td>-0.7910</td>\n",
       "      <td>72.0198</td>\n",
       "      <td>-32.2628</td>\n",
       "      <td>-32.1940</td>\n",
       "    </tr>\n",
       "  </tbody>\n",
       "</table>\n",
       "<p>122484 rows × 220 columns</p>\n",
       "</div>"
      ],
      "text/plain": [
       "                          (total_precipitation, 0)  (total_precipitation, 1)  \\\n",
       "Unique_ID                                                                      \n",
       "8HTYWT_11001_69587_51                      -0.7026                   -0.7752   \n",
       "21ESWYT_53014_8890_1549                    -0.3241                   -0.3316   \n",
       "18SAWYT_22207_486152_105                   -0.4656                   -0.6741   \n",
       "7ESWYT_51010_7741_7                         1.8093                    1.8920   \n",
       "8SAWYT_19314_289455_7                      -0.0010                    0.0006   \n",
       "...                                            ...                       ...   \n",
       "19ESWYT_22611_67297_23                     -0.6801                   -0.3088   \n",
       "36ESWYT_51002_546353_47                     0.6813                   -0.4153   \n",
       "11ESWYT_50202_8105_13                       1.1149                    1.4587   \n",
       "22ESWYT_22606_260140_84                    -0.6981                   -0.7794   \n",
       "19ESWYT_51003_122456_3                      1.9070                    0.3984   \n",
       "\n",
       "                          (total_precipitation, 2)  (total_precipitation, 3)  \\\n",
       "Unique_ID                                                                      \n",
       "8HTYWT_11001_69587_51                      -0.7795               -7.2153e-01   \n",
       "21ESWYT_53014_8890_1549                    -0.0125                1.3344e+00   \n",
       "18SAWYT_22207_486152_105                   -0.0264               -5.3680e-01   \n",
       "7ESWYT_51010_7741_7                         0.6013                5.8278e-01   \n",
       "8SAWYT_19314_289455_7                       0.0007                9.1749e-05   \n",
       "...                                            ...                       ...   \n",
       "19ESWYT_22611_67297_23                     -0.0470               -3.4854e-01   \n",
       "36ESWYT_51002_546353_47                     0.1412               -1.6435e-01   \n",
       "11ESWYT_50202_8105_13                       4.1661                2.2685e+00   \n",
       "22ESWYT_22606_260140_84                    -0.6778               -5.9266e-01   \n",
       "19ESWYT_51003_122456_3                     -0.3627               -5.1712e-01   \n",
       "\n",
       "                          (total_precipitation, 4)  (total_precipitation, 5)  \\\n",
       "Unique_ID                                                                      \n",
       "8HTYWT_11001_69587_51                      -0.6566                   -0.5437   \n",
       "21ESWYT_53014_8890_1549                     1.3858                    1.9809   \n",
       "18SAWYT_22207_486152_105                   -0.6758                   -0.4184   \n",
       "7ESWYT_51010_7741_7                        -0.4668                   -0.4963   \n",
       "8SAWYT_19314_289455_7                      -0.0010                   -0.0005   \n",
       "...                                            ...                       ...   \n",
       "19ESWYT_22611_67297_23                     -0.6727                   -0.6835   \n",
       "36ESWYT_51002_546353_47                    -0.2636                   -0.3292   \n",
       "11ESWYT_50202_8105_13                       0.1901                    0.8803   \n",
       "22ESWYT_22606_260140_84                     0.0409                   -0.3897   \n",
       "19ESWYT_51003_122456_3                      0.1945                   -0.6210   \n",
       "\n",
       "                          (total_precipitation, 6)  (total_precipitation, 7)  \\\n",
       "Unique_ID                                                                      \n",
       "8HTYWT_11001_69587_51                      -0.1091                    2.4180   \n",
       "21ESWYT_53014_8890_1549                     0.8296                   -0.1272   \n",
       "18SAWYT_22207_486152_105                   -0.7728                    1.9565   \n",
       "7ESWYT_51010_7741_7                        -0.4948                   -0.6454   \n",
       "8SAWYT_19314_289455_7                      -0.0011                   -0.0008   \n",
       "...                                            ...                       ...   \n",
       "19ESWYT_22611_67297_23                     -0.5377                    0.2413   \n",
       "36ESWYT_51002_546353_47                    -0.4744                    0.1819   \n",
       "11ESWYT_50202_8105_13                      -0.0436                    0.3189   \n",
       "22ESWYT_22606_260140_84                    -0.6702                   -0.9174   \n",
       "19ESWYT_51003_122456_3                      0.3681                   -0.3984   \n",
       "\n",
       "                          (total_precipitation, 8)  (total_precipitation, 9)  \\\n",
       "Unique_ID                                                                      \n",
       "8HTYWT_11001_69587_51                       1.0002                    0.4195   \n",
       "21ESWYT_53014_8890_1549                    -0.2443                   -0.7650   \n",
       "18SAWYT_22207_486152_105                    1.0078                    1.1427   \n",
       "7ESWYT_51010_7741_7                         0.1436                   -0.3741   \n",
       "8SAWYT_19314_289455_7                      -0.0014                   -0.0011   \n",
       "...                                            ...                       ...   \n",
       "19ESWYT_22611_67297_23                     -0.2914                   -0.1292   \n",
       "36ESWYT_51002_546353_47                    -0.7711                   -0.4113   \n",
       "11ESWYT_50202_8105_13                       0.7493                    0.7113   \n",
       "22ESWYT_22606_260140_84                    -0.9562                   -0.8860   \n",
       "19ESWYT_51003_122456_3                     -0.0621                   -0.2708   \n",
       "\n",
       "                          ...  (tmmn, 9)  (tmmx, 4)  (tmmx, 6)  (tmmx, 7)  \\\n",
       "Unique_ID                 ...                                               \n",
       "8HTYWT_11001_69587_51     ...     0.1474     0.8214     0.6954     0.4212   \n",
       "21ESWYT_53014_8890_1549   ...    -0.5847     0.9032     0.4444     0.1504   \n",
       "18SAWYT_22207_486152_105  ...     1.1790     0.4124     1.1975     0.7985   \n",
       "7ESWYT_51010_7741_7       ...    -0.6734    -0.5693    -0.5196    -0.5074   \n",
       "8SAWYT_19314_289455_7     ...     0.0028     0.0007     0.0024     0.0034   \n",
       "...                       ...        ...        ...        ...        ...   \n",
       "19ESWYT_22611_67297_23    ...     1.1901     0.3469     1.0669     1.0500   \n",
       "36ESWYT_51002_546353_47   ...    -1.0839    -0.7492    -0.9614    -1.2619   \n",
       "11ESWYT_50202_8105_13     ...    -0.2963    -0.1275    -0.4694    -0.4397   \n",
       "22ESWYT_22606_260140_84   ...    -1.0728    -0.1930    -1.1623    -0.9234   \n",
       "19ESWYT_51003_122456_3    ...    -0.5181    -0.5529    -0.5899    -0.4107   \n",
       "\n",
       "                          (tmmx, 8)  (tmmx, 9)  (av_altitude, 0)     PC_0  \\\n",
       "Unique_ID                                                                   \n",
       "8HTYWT_11001_69587_51        0.2314    -0.0349            0.5111  76.5696   \n",
       "21ESWYT_53014_8890_1549     -0.1442    -0.3253            2.0024  58.4852   \n",
       "18SAWYT_22207_486152_105     0.6172     0.7135           -0.4948 -30.1181   \n",
       "7ESWYT_51010_7741_7         -0.3067    -0.3141           -0.7995  14.0330   \n",
       "8SAWYT_19314_289455_7        0.0040     0.0038           -0.0010   3.8489   \n",
       "...                             ...        ...               ...      ...   \n",
       "19ESWYT_22611_67297_23       1.0537     0.9592           -0.6161 -18.3712   \n",
       "36ESWYT_51002_546353_47     -1.3117    -1.1853           -0.6852   2.6463   \n",
       "11ESWYT_50202_8105_13       -0.4183    -0.3811            0.1091 -48.0999   \n",
       "22ESWYT_22606_260140_84     -0.7635    -0.2806            1.6355  68.0603   \n",
       "19ESWYT_51003_122456_3      -0.4995    -0.3364           -0.7910  72.0198   \n",
       "\n",
       "                             PC_2     PC_3  \n",
       "Unique_ID                                   \n",
       "8HTYWT_11001_69587_51    -31.0921 -26.0202  \n",
       "21ESWYT_53014_8890_1549  -13.1803  32.3064  \n",
       "18SAWYT_22207_486152_105  15.3584 -10.4601  \n",
       "7ESWYT_51010_7741_7       -2.3935 -39.7941  \n",
       "8SAWYT_19314_289455_7    -19.7375 -17.2028  \n",
       "...                           ...      ...  \n",
       "19ESWYT_22611_67297_23    -6.3413   5.8607  \n",
       "36ESWYT_51002_546353_47   -3.1209   1.4841  \n",
       "11ESWYT_50202_8105_13     -2.7181   4.2465  \n",
       "22ESWYT_22606_260140_84   14.4407  16.7362  \n",
       "19ESWYT_51003_122456_3   -32.2628 -32.1940  \n",
       "\n",
       "[122484 rows x 220 columns]"
      ]
     },
     "execution_count": 268,
     "metadata": {
      "tags": []
     },
     "output_type": "execute_result"
    }
   ],
   "source": [
    "X_new_rf = pd.DataFrame(X_new_rf, index = X_train_model.index, columns = X_train_model.loc[:,model.get_support()].columns)\n",
    "X_new_rf"
   ]
  },
  {
   "cell_type": "code",
   "execution_count": 269,
   "metadata": {
    "colab": {
     "base_uri": "https://localhost:8080/",
     "height": 468
    },
    "colab_type": "code",
    "id": "aoVDMDt8CXle",
    "outputId": "373c5234-6faf-4ce8-c291-fb4b71d3bb4e"
   },
   "outputs": [
    {
     "data": {
      "text/html": [
       "<div>\n",
       "<style scoped>\n",
       "    .dataframe tbody tr th:only-of-type {\n",
       "        vertical-align: middle;\n",
       "    }\n",
       "\n",
       "    .dataframe tbody tr th {\n",
       "        vertical-align: top;\n",
       "    }\n",
       "\n",
       "    .dataframe thead th {\n",
       "        text-align: right;\n",
       "    }\n",
       "</style>\n",
       "<table border=\"1\" class=\"dataframe\">\n",
       "  <thead>\n",
       "    <tr style=\"text-align: right;\">\n",
       "      <th></th>\n",
       "      <th>(total_precipitation, 0)</th>\n",
       "      <th>(total_precipitation, 1)</th>\n",
       "      <th>(total_precipitation, 2)</th>\n",
       "      <th>(total_precipitation, 3)</th>\n",
       "      <th>(total_precipitation, 4)</th>\n",
       "      <th>(total_precipitation, 5)</th>\n",
       "      <th>(total_precipitation, 6)</th>\n",
       "      <th>(total_precipitation, 7)</th>\n",
       "      <th>(total_precipitation, 8)</th>\n",
       "      <th>(total_precipitation, 9)</th>\n",
       "      <th>...</th>\n",
       "      <th>(tmmn, 9)</th>\n",
       "      <th>(tmmx, 4)</th>\n",
       "      <th>(tmmx, 6)</th>\n",
       "      <th>(tmmx, 7)</th>\n",
       "      <th>(tmmx, 8)</th>\n",
       "      <th>(tmmx, 9)</th>\n",
       "      <th>(av_altitude, 0)</th>\n",
       "      <th>PC_0</th>\n",
       "      <th>PC_2</th>\n",
       "      <th>PC_3</th>\n",
       "    </tr>\n",
       "    <tr>\n",
       "      <th>Unique_ID</th>\n",
       "      <th></th>\n",
       "      <th></th>\n",
       "      <th></th>\n",
       "      <th></th>\n",
       "      <th></th>\n",
       "      <th></th>\n",
       "      <th></th>\n",
       "      <th></th>\n",
       "      <th></th>\n",
       "      <th></th>\n",
       "      <th></th>\n",
       "      <th></th>\n",
       "      <th></th>\n",
       "      <th></th>\n",
       "      <th></th>\n",
       "      <th></th>\n",
       "      <th></th>\n",
       "      <th></th>\n",
       "      <th></th>\n",
       "      <th></th>\n",
       "      <th></th>\n",
       "    </tr>\n",
       "  </thead>\n",
       "  <tbody>\n",
       "    <tr>\n",
       "      <th>15HTWYT_22403_562899_61</th>\n",
       "      <td>-0.2729</td>\n",
       "      <td>-0.7659</td>\n",
       "      <td>-0.6613</td>\n",
       "      <td>-0.6692</td>\n",
       "      <td>0.7075</td>\n",
       "      <td>0.6995</td>\n",
       "      <td>1.4872</td>\n",
       "      <td>1.1643</td>\n",
       "      <td>0.8400</td>\n",
       "      <td>1.5605</td>\n",
       "      <td>...</td>\n",
       "      <td>0.8726</td>\n",
       "      <td>1.4558</td>\n",
       "      <td>1.0789</td>\n",
       "      <td>0.7861</td>\n",
       "      <td>0.6230</td>\n",
       "      <td>0.5210</td>\n",
       "      <td>-0.6382</td>\n",
       "      <td>-19.4503</td>\n",
       "      <td>-1.8514</td>\n",
       "      <td>-3.6811</td>\n",
       "    </tr>\n",
       "    <tr>\n",
       "      <th>23SAWYT_22213_559568_26</th>\n",
       "      <td>-0.1402</td>\n",
       "      <td>-0.7068</td>\n",
       "      <td>-0.4917</td>\n",
       "      <td>-0.7141</td>\n",
       "      <td>-0.6349</td>\n",
       "      <td>-0.2909</td>\n",
       "      <td>-0.2479</td>\n",
       "      <td>0.3850</td>\n",
       "      <td>0.7282</td>\n",
       "      <td>2.2565</td>\n",
       "      <td>...</td>\n",
       "      <td>0.9617</td>\n",
       "      <td>0.7511</td>\n",
       "      <td>1.2301</td>\n",
       "      <td>0.9899</td>\n",
       "      <td>0.7350</td>\n",
       "      <td>0.6334</td>\n",
       "      <td>-0.7475</td>\n",
       "      <td>22.3244</td>\n",
       "      <td>-12.6979</td>\n",
       "      <td>9.0274</td>\n",
       "    </tr>\n",
       "    <tr>\n",
       "      <th>11ESWYT_65301_7822_9</th>\n",
       "      <td>-0.6896</td>\n",
       "      <td>-0.7118</td>\n",
       "      <td>-0.2838</td>\n",
       "      <td>0.0904</td>\n",
       "      <td>-0.1726</td>\n",
       "      <td>-0.2783</td>\n",
       "      <td>0.4170</td>\n",
       "      <td>1.4500</td>\n",
       "      <td>-0.0377</td>\n",
       "      <td>-0.3184</td>\n",
       "      <td>...</td>\n",
       "      <td>-0.4424</td>\n",
       "      <td>-0.2486</td>\n",
       "      <td>-0.9057</td>\n",
       "      <td>-0.9413</td>\n",
       "      <td>-0.9957</td>\n",
       "      <td>-0.5347</td>\n",
       "      <td>-0.4504</td>\n",
       "      <td>-50.0812</td>\n",
       "      <td>0.2840</td>\n",
       "      <td>-2.1470</td>\n",
       "    </tr>\n",
       "    <tr>\n",
       "      <th>8HRWYT_51202_91811_214</th>\n",
       "      <td>-0.1100</td>\n",
       "      <td>-0.3881</td>\n",
       "      <td>-0.3210</td>\n",
       "      <td>-0.2322</td>\n",
       "      <td>3.1239</td>\n",
       "      <td>1.1319</td>\n",
       "      <td>1.2734</td>\n",
       "      <td>4.7902</td>\n",
       "      <td>-0.3930</td>\n",
       "      <td>-0.6224</td>\n",
       "      <td>...</td>\n",
       "      <td>-1.3673</td>\n",
       "      <td>-0.9042</td>\n",
       "      <td>-1.1777</td>\n",
       "      <td>-1.1839</td>\n",
       "      <td>-1.3215</td>\n",
       "      <td>-1.1412</td>\n",
       "      <td>-0.2388</td>\n",
       "      <td>-35.2793</td>\n",
       "      <td>15.2590</td>\n",
       "      <td>-5.6993</td>\n",
       "    </tr>\n",
       "    <tr>\n",
       "      <th>21ESWYT_62101_25787_256</th>\n",
       "      <td>0.5912</td>\n",
       "      <td>0.8009</td>\n",
       "      <td>-0.2720</td>\n",
       "      <td>0.1805</td>\n",
       "      <td>-0.3583</td>\n",
       "      <td>-0.1341</td>\n",
       "      <td>-0.2696</td>\n",
       "      <td>-0.2682</td>\n",
       "      <td>-0.5690</td>\n",
       "      <td>-0.7951</td>\n",
       "      <td>...</td>\n",
       "      <td>-1.6793</td>\n",
       "      <td>-1.0845</td>\n",
       "      <td>-2.3664</td>\n",
       "      <td>-2.5135</td>\n",
       "      <td>-2.5533</td>\n",
       "      <td>-2.5113</td>\n",
       "      <td>-0.5990</td>\n",
       "      <td>-64.1916</td>\n",
       "      <td>-9.5825</td>\n",
       "      <td>6.1856</td>\n",
       "    </tr>\n",
       "    <tr>\n",
       "      <th>...</th>\n",
       "      <td>...</td>\n",
       "      <td>...</td>\n",
       "      <td>...</td>\n",
       "      <td>...</td>\n",
       "      <td>...</td>\n",
       "      <td>...</td>\n",
       "      <td>...</td>\n",
       "      <td>...</td>\n",
       "      <td>...</td>\n",
       "      <td>...</td>\n",
       "      <td>...</td>\n",
       "      <td>...</td>\n",
       "      <td>...</td>\n",
       "      <td>...</td>\n",
       "      <td>...</td>\n",
       "      <td>...</td>\n",
       "      <td>...</td>\n",
       "      <td>...</td>\n",
       "      <td>...</td>\n",
       "      <td>...</td>\n",
       "      <td>...</td>\n",
       "    </tr>\n",
       "    <tr>\n",
       "      <th>24ESWYT_12205_207425_62</th>\n",
       "      <td>4.1859</td>\n",
       "      <td>9.0731</td>\n",
       "      <td>3.9351</td>\n",
       "      <td>6.5164</td>\n",
       "      <td>0.9184</td>\n",
       "      <td>0.9412</td>\n",
       "      <td>0.8391</td>\n",
       "      <td>-0.5474</td>\n",
       "      <td>-0.6271</td>\n",
       "      <td>-0.7050</td>\n",
       "      <td>...</td>\n",
       "      <td>-0.9327</td>\n",
       "      <td>0.7347</td>\n",
       "      <td>0.5652</td>\n",
       "      <td>0.3591</td>\n",
       "      <td>0.0733</td>\n",
       "      <td>-0.3101</td>\n",
       "      <td>2.3008</td>\n",
       "      <td>10.6220</td>\n",
       "      <td>-21.7346</td>\n",
       "      <td>-20.7855</td>\n",
       "    </tr>\n",
       "    <tr>\n",
       "      <th>6ESWYT_22607_7691_50</th>\n",
       "      <td>0.8382</td>\n",
       "      <td>0.3954</td>\n",
       "      <td>-0.7379</td>\n",
       "      <td>-0.1156</td>\n",
       "      <td>-0.1457</td>\n",
       "      <td>-0.0078</td>\n",
       "      <td>-0.7498</td>\n",
       "      <td>-0.6183</td>\n",
       "      <td>1.2735</td>\n",
       "      <td>1.0324</td>\n",
       "      <td>...</td>\n",
       "      <td>0.7389</td>\n",
       "      <td>-0.4453</td>\n",
       "      <td>0.2428</td>\n",
       "      <td>0.6697</td>\n",
       "      <td>0.5721</td>\n",
       "      <td>0.6446</td>\n",
       "      <td>-0.2486</td>\n",
       "      <td>97.1160</td>\n",
       "      <td>-10.1511</td>\n",
       "      <td>24.6885</td>\n",
       "    </tr>\n",
       "    <tr>\n",
       "      <th>19ESWYT_42101_65217_164</th>\n",
       "      <td>0.4490</td>\n",
       "      <td>-0.0609</td>\n",
       "      <td>0.1150</td>\n",
       "      <td>-0.6793</td>\n",
       "      <td>-0.6551</td>\n",
       "      <td>-0.3872</td>\n",
       "      <td>-0.3775</td>\n",
       "      <td>0.2437</td>\n",
       "      <td>-0.1437</td>\n",
       "      <td>0.8033</td>\n",
       "      <td>...</td>\n",
       "      <td>0.3711</td>\n",
       "      <td>0.6528</td>\n",
       "      <td>-0.3113</td>\n",
       "      <td>-0.1067</td>\n",
       "      <td>0.1140</td>\n",
       "      <td>0.5098</td>\n",
       "      <td>-0.4588</td>\n",
       "      <td>5.0100</td>\n",
       "      <td>-13.3882</td>\n",
       "      <td>2.5271</td>\n",
       "    </tr>\n",
       "    <tr>\n",
       "      <th>24SAWYT_22261_559885_12</th>\n",
       "      <td>-0.6672</td>\n",
       "      <td>-0.7539</td>\n",
       "      <td>-0.7686</td>\n",
       "      <td>-0.7146</td>\n",
       "      <td>-0.6649</td>\n",
       "      <td>-0.3885</td>\n",
       "      <td>1.5796</td>\n",
       "      <td>0.4866</td>\n",
       "      <td>5.1015</td>\n",
       "      <td>1.6072</td>\n",
       "      <td>...</td>\n",
       "      <td>0.7612</td>\n",
       "      <td>1.2755</td>\n",
       "      <td>1.0991</td>\n",
       "      <td>0.8055</td>\n",
       "      <td>0.5009</td>\n",
       "      <td>0.2964</td>\n",
       "      <td>-0.4476</td>\n",
       "      <td>7.5410</td>\n",
       "      <td>-13.5401</td>\n",
       "      <td>0.3633</td>\n",
       "    </tr>\n",
       "    <tr>\n",
       "      <th>18HRWYT_12002_450408_114</th>\n",
       "      <td>-0.6328</td>\n",
       "      <td>-0.7716</td>\n",
       "      <td>-0.7626</td>\n",
       "      <td>-0.6781</td>\n",
       "      <td>-0.3907</td>\n",
       "      <td>1.1511</td>\n",
       "      <td>-0.2088</td>\n",
       "      <td>0.4774</td>\n",
       "      <td>1.1528</td>\n",
       "      <td>-0.7268</td>\n",
       "      <td>...</td>\n",
       "      <td>0.4491</td>\n",
       "      <td>1.5705</td>\n",
       "      <td>0.8170</td>\n",
       "      <td>0.4756</td>\n",
       "      <td>0.3991</td>\n",
       "      <td>0.2627</td>\n",
       "      <td>0.4213</td>\n",
       "      <td>55.2700</td>\n",
       "      <td>13.0405</td>\n",
       "      <td>13.7031</td>\n",
       "    </tr>\n",
       "  </tbody>\n",
       "</table>\n",
       "<p>21615 rows × 220 columns</p>\n",
       "</div>"
      ],
      "text/plain": [
       "                          (total_precipitation, 0)  (total_precipitation, 1)  \\\n",
       "Unique_ID                                                                      \n",
       "15HTWYT_22403_562899_61                    -0.2729                   -0.7659   \n",
       "23SAWYT_22213_559568_26                    -0.1402                   -0.7068   \n",
       "11ESWYT_65301_7822_9                       -0.6896                   -0.7118   \n",
       "8HRWYT_51202_91811_214                     -0.1100                   -0.3881   \n",
       "21ESWYT_62101_25787_256                     0.5912                    0.8009   \n",
       "...                                            ...                       ...   \n",
       "24ESWYT_12205_207425_62                     4.1859                    9.0731   \n",
       "6ESWYT_22607_7691_50                        0.8382                    0.3954   \n",
       "19ESWYT_42101_65217_164                     0.4490                   -0.0609   \n",
       "24SAWYT_22261_559885_12                    -0.6672                   -0.7539   \n",
       "18HRWYT_12002_450408_114                   -0.6328                   -0.7716   \n",
       "\n",
       "                          (total_precipitation, 2)  (total_precipitation, 3)  \\\n",
       "Unique_ID                                                                      \n",
       "15HTWYT_22403_562899_61                    -0.6613                   -0.6692   \n",
       "23SAWYT_22213_559568_26                    -0.4917                   -0.7141   \n",
       "11ESWYT_65301_7822_9                       -0.2838                    0.0904   \n",
       "8HRWYT_51202_91811_214                     -0.3210                   -0.2322   \n",
       "21ESWYT_62101_25787_256                    -0.2720                    0.1805   \n",
       "...                                            ...                       ...   \n",
       "24ESWYT_12205_207425_62                     3.9351                    6.5164   \n",
       "6ESWYT_22607_7691_50                       -0.7379                   -0.1156   \n",
       "19ESWYT_42101_65217_164                     0.1150                   -0.6793   \n",
       "24SAWYT_22261_559885_12                    -0.7686                   -0.7146   \n",
       "18HRWYT_12002_450408_114                   -0.7626                   -0.6781   \n",
       "\n",
       "                          (total_precipitation, 4)  (total_precipitation, 5)  \\\n",
       "Unique_ID                                                                      \n",
       "15HTWYT_22403_562899_61                     0.7075                    0.6995   \n",
       "23SAWYT_22213_559568_26                    -0.6349                   -0.2909   \n",
       "11ESWYT_65301_7822_9                       -0.1726                   -0.2783   \n",
       "8HRWYT_51202_91811_214                      3.1239                    1.1319   \n",
       "21ESWYT_62101_25787_256                    -0.3583                   -0.1341   \n",
       "...                                            ...                       ...   \n",
       "24ESWYT_12205_207425_62                     0.9184                    0.9412   \n",
       "6ESWYT_22607_7691_50                       -0.1457                   -0.0078   \n",
       "19ESWYT_42101_65217_164                    -0.6551                   -0.3872   \n",
       "24SAWYT_22261_559885_12                    -0.6649                   -0.3885   \n",
       "18HRWYT_12002_450408_114                   -0.3907                    1.1511   \n",
       "\n",
       "                          (total_precipitation, 6)  (total_precipitation, 7)  \\\n",
       "Unique_ID                                                                      \n",
       "15HTWYT_22403_562899_61                     1.4872                    1.1643   \n",
       "23SAWYT_22213_559568_26                    -0.2479                    0.3850   \n",
       "11ESWYT_65301_7822_9                        0.4170                    1.4500   \n",
       "8HRWYT_51202_91811_214                      1.2734                    4.7902   \n",
       "21ESWYT_62101_25787_256                    -0.2696                   -0.2682   \n",
       "...                                            ...                       ...   \n",
       "24ESWYT_12205_207425_62                     0.8391                   -0.5474   \n",
       "6ESWYT_22607_7691_50                       -0.7498                   -0.6183   \n",
       "19ESWYT_42101_65217_164                    -0.3775                    0.2437   \n",
       "24SAWYT_22261_559885_12                     1.5796                    0.4866   \n",
       "18HRWYT_12002_450408_114                   -0.2088                    0.4774   \n",
       "\n",
       "                          (total_precipitation, 8)  (total_precipitation, 9)  \\\n",
       "Unique_ID                                                                      \n",
       "15HTWYT_22403_562899_61                     0.8400                    1.5605   \n",
       "23SAWYT_22213_559568_26                     0.7282                    2.2565   \n",
       "11ESWYT_65301_7822_9                       -0.0377                   -0.3184   \n",
       "8HRWYT_51202_91811_214                     -0.3930                   -0.6224   \n",
       "21ESWYT_62101_25787_256                    -0.5690                   -0.7951   \n",
       "...                                            ...                       ...   \n",
       "24ESWYT_12205_207425_62                    -0.6271                   -0.7050   \n",
       "6ESWYT_22607_7691_50                        1.2735                    1.0324   \n",
       "19ESWYT_42101_65217_164                    -0.1437                    0.8033   \n",
       "24SAWYT_22261_559885_12                     5.1015                    1.6072   \n",
       "18HRWYT_12002_450408_114                    1.1528                   -0.7268   \n",
       "\n",
       "                          ...  (tmmn, 9)  (tmmx, 4)  (tmmx, 6)  (tmmx, 7)  \\\n",
       "Unique_ID                 ...                                               \n",
       "15HTWYT_22403_562899_61   ...     0.8726     1.4558     1.0789     0.7861   \n",
       "23SAWYT_22213_559568_26   ...     0.9617     0.7511     1.2301     0.9899   \n",
       "11ESWYT_65301_7822_9      ...    -0.4424    -0.2486    -0.9057    -0.9413   \n",
       "8HRWYT_51202_91811_214    ...    -1.3673    -0.9042    -1.1777    -1.1839   \n",
       "21ESWYT_62101_25787_256   ...    -1.6793    -1.0845    -2.3664    -2.5135   \n",
       "...                       ...        ...        ...        ...        ...   \n",
       "24ESWYT_12205_207425_62   ...    -0.9327     0.7347     0.5652     0.3591   \n",
       "6ESWYT_22607_7691_50      ...     0.7389    -0.4453     0.2428     0.6697   \n",
       "19ESWYT_42101_65217_164   ...     0.3711     0.6528    -0.3113    -0.1067   \n",
       "24SAWYT_22261_559885_12   ...     0.7612     1.2755     1.0991     0.8055   \n",
       "18HRWYT_12002_450408_114  ...     0.4491     1.5705     0.8170     0.4756   \n",
       "\n",
       "                          (tmmx, 8)  (tmmx, 9)  (av_altitude, 0)     PC_0  \\\n",
       "Unique_ID                                                                   \n",
       "15HTWYT_22403_562899_61      0.6230     0.5210           -0.6382 -19.4503   \n",
       "23SAWYT_22213_559568_26      0.7350     0.6334           -0.7475  22.3244   \n",
       "11ESWYT_65301_7822_9        -0.9957    -0.5347           -0.4504 -50.0812   \n",
       "8HRWYT_51202_91811_214      -1.3215    -1.1412           -0.2388 -35.2793   \n",
       "21ESWYT_62101_25787_256     -2.5533    -2.5113           -0.5990 -64.1916   \n",
       "...                             ...        ...               ...      ...   \n",
       "24ESWYT_12205_207425_62      0.0733    -0.3101            2.3008  10.6220   \n",
       "6ESWYT_22607_7691_50         0.5721     0.6446           -0.2486  97.1160   \n",
       "19ESWYT_42101_65217_164      0.1140     0.5098           -0.4588   5.0100   \n",
       "24SAWYT_22261_559885_12      0.5009     0.2964           -0.4476   7.5410   \n",
       "18HRWYT_12002_450408_114     0.3991     0.2627            0.4213  55.2700   \n",
       "\n",
       "                             PC_2     PC_3  \n",
       "Unique_ID                                   \n",
       "15HTWYT_22403_562899_61   -1.8514  -3.6811  \n",
       "23SAWYT_22213_559568_26  -12.6979   9.0274  \n",
       "11ESWYT_65301_7822_9       0.2840  -2.1470  \n",
       "8HRWYT_51202_91811_214    15.2590  -5.6993  \n",
       "21ESWYT_62101_25787_256   -9.5825   6.1856  \n",
       "...                           ...      ...  \n",
       "24ESWYT_12205_207425_62  -21.7346 -20.7855  \n",
       "6ESWYT_22607_7691_50     -10.1511  24.6885  \n",
       "19ESWYT_42101_65217_164  -13.3882   2.5271  \n",
       "24SAWYT_22261_559885_12  -13.5401   0.3633  \n",
       "18HRWYT_12002_450408_114  13.0405  13.7031  \n",
       "\n",
       "[21615 rows x 220 columns]"
      ]
     },
     "execution_count": 269,
     "metadata": {
      "tags": []
     },
     "output_type": "execute_result"
    }
   ],
   "source": [
    "X_new_rf_test = model.transform(X_test_model)\n",
    "X_new_rf_test = pd.DataFrame(X_new_rf_test, index = X_test_model.index, columns = X_new_rf.columns)\n",
    "X_new_rf_test"
   ]
  },
  {
   "cell_type": "code",
   "execution_count": 270,
   "metadata": {
    "colab": {
     "base_uri": "https://localhost:8080/",
     "height": 468
    },
    "colab_type": "code",
    "id": "tNGcrylBC0OP",
    "outputId": "7ff08d06-0101-41d4-ef32-b82ad1985148"
   },
   "outputs": [
    {
     "data": {
      "text/html": [
       "<div>\n",
       "<style scoped>\n",
       "    .dataframe tbody tr th:only-of-type {\n",
       "        vertical-align: middle;\n",
       "    }\n",
       "\n",
       "    .dataframe tbody tr th {\n",
       "        vertical-align: top;\n",
       "    }\n",
       "\n",
       "    .dataframe thead th {\n",
       "        text-align: right;\n",
       "    }\n",
       "</style>\n",
       "<table border=\"1\" class=\"dataframe\">\n",
       "  <thead>\n",
       "    <tr style=\"text-align: right;\">\n",
       "      <th></th>\n",
       "      <th>(total_precipitation, 0)</th>\n",
       "      <th>(total_precipitation, 1)</th>\n",
       "      <th>(total_precipitation, 2)</th>\n",
       "      <th>(total_precipitation, 3)</th>\n",
       "      <th>(total_precipitation, 4)</th>\n",
       "      <th>(total_precipitation, 5)</th>\n",
       "      <th>(total_precipitation, 6)</th>\n",
       "      <th>(total_precipitation, 7)</th>\n",
       "      <th>(total_precipitation, 8)</th>\n",
       "      <th>(total_precipitation, 9)</th>\n",
       "      <th>...</th>\n",
       "      <th>(tmmn, 9)</th>\n",
       "      <th>(tmmx, 4)</th>\n",
       "      <th>(tmmx, 6)</th>\n",
       "      <th>(tmmx, 7)</th>\n",
       "      <th>(tmmx, 8)</th>\n",
       "      <th>(tmmx, 9)</th>\n",
       "      <th>(av_altitude, 0)</th>\n",
       "      <th>PC_0</th>\n",
       "      <th>PC_2</th>\n",
       "      <th>PC_3</th>\n",
       "    </tr>\n",
       "    <tr>\n",
       "      <th>Unique_ID</th>\n",
       "      <th></th>\n",
       "      <th></th>\n",
       "      <th></th>\n",
       "      <th></th>\n",
       "      <th></th>\n",
       "      <th></th>\n",
       "      <th></th>\n",
       "      <th></th>\n",
       "      <th></th>\n",
       "      <th></th>\n",
       "      <th></th>\n",
       "      <th></th>\n",
       "      <th></th>\n",
       "      <th></th>\n",
       "      <th></th>\n",
       "      <th></th>\n",
       "      <th></th>\n",
       "      <th></th>\n",
       "      <th></th>\n",
       "      <th></th>\n",
       "      <th></th>\n",
       "    </tr>\n",
       "  </thead>\n",
       "  <tbody>\n",
       "    <tr>\n",
       "      <th>22SAWYT_22234_537241_108</th>\n",
       "      <td>0.0056</td>\n",
       "      <td>0.7018</td>\n",
       "      <td>-0.4380</td>\n",
       "      <td>-0.4280</td>\n",
       "      <td>-0.3159</td>\n",
       "      <td>-0.5770</td>\n",
       "      <td>-0.5665</td>\n",
       "      <td>0.5016</td>\n",
       "      <td>2.6206</td>\n",
       "      <td>0.3318</td>\n",
       "      <td>...</td>\n",
       "      <td>0.7523</td>\n",
       "      <td>0.8404</td>\n",
       "      <td>1.0782</td>\n",
       "      <td>0.7055</td>\n",
       "      <td>0.4450</td>\n",
       "      <td>0.2125</td>\n",
       "      <td>-0.3545</td>\n",
       "      <td>15.7189</td>\n",
       "      <td>3.4841</td>\n",
       "      <td>5.1789</td>\n",
       "    </tr>\n",
       "    <tr>\n",
       "      <th>5HTYWT_10028_49434_555</th>\n",
       "      <td>-0.5043</td>\n",
       "      <td>-0.4232</td>\n",
       "      <td>-0.2723</td>\n",
       "      <td>-0.1033</td>\n",
       "      <td>-0.2280</td>\n",
       "      <td>0.5105</td>\n",
       "      <td>-0.5332</td>\n",
       "      <td>-0.7822</td>\n",
       "      <td>-0.9411</td>\n",
       "      <td>-0.7927</td>\n",
       "      <td>...</td>\n",
       "      <td>-0.2735</td>\n",
       "      <td>-0.3408</td>\n",
       "      <td>0.2491</td>\n",
       "      <td>0.1898</td>\n",
       "      <td>0.2611</td>\n",
       "      <td>-0.2496</td>\n",
       "      <td>-0.6734</td>\n",
       "      <td>-58.0349</td>\n",
       "      <td>-10.3797</td>\n",
       "      <td>12.7657</td>\n",
       "    </tr>\n",
       "    <tr>\n",
       "      <th>12SAWYT_10002_279819_57</th>\n",
       "      <td>0.0020</td>\n",
       "      <td>-0.0018</td>\n",
       "      <td>-0.0004</td>\n",
       "      <td>0.0002</td>\n",
       "      <td>0.0058</td>\n",
       "      <td>-0.0027</td>\n",
       "      <td>-0.0013</td>\n",
       "      <td>-0.0018</td>\n",
       "      <td>-0.0033</td>\n",
       "      <td>-0.0014</td>\n",
       "      <td>...</td>\n",
       "      <td>-0.0064</td>\n",
       "      <td>0.0011</td>\n",
       "      <td>-0.0038</td>\n",
       "      <td>-0.0067</td>\n",
       "      <td>-0.0087</td>\n",
       "      <td>-0.0077</td>\n",
       "      <td>0.0042</td>\n",
       "      <td>16.7560</td>\n",
       "      <td>-9.7273</td>\n",
       "      <td>13.2519</td>\n",
       "    </tr>\n",
       "    <tr>\n",
       "      <th>9HRWYT_50208_43142_1942</th>\n",
       "      <td>1.1107</td>\n",
       "      <td>0.3047</td>\n",
       "      <td>-0.1078</td>\n",
       "      <td>3.3307</td>\n",
       "      <td>-0.2646</td>\n",
       "      <td>0.1345</td>\n",
       "      <td>1.1841</td>\n",
       "      <td>0.6100</td>\n",
       "      <td>0.4157</td>\n",
       "      <td>0.9228</td>\n",
       "      <td>...</td>\n",
       "      <td>-0.0059</td>\n",
       "      <td>1.3817</td>\n",
       "      <td>0.8861</td>\n",
       "      <td>0.7152</td>\n",
       "      <td>0.4757</td>\n",
       "      <td>0.2012</td>\n",
       "      <td>-0.3716</td>\n",
       "      <td>-49.0333</td>\n",
       "      <td>-4.7105</td>\n",
       "      <td>-13.7896</td>\n",
       "    </tr>\n",
       "    <tr>\n",
       "      <th>35ESWYT_20002_540618_69</th>\n",
       "      <td>1.6555</td>\n",
       "      <td>1.3818</td>\n",
       "      <td>2.2232</td>\n",
       "      <td>0.2678</td>\n",
       "      <td>-0.5104</td>\n",
       "      <td>-0.4616</td>\n",
       "      <td>0.3455</td>\n",
       "      <td>-0.3590</td>\n",
       "      <td>-0.6655</td>\n",
       "      <td>-0.5672</td>\n",
       "      <td>...</td>\n",
       "      <td>0.6854</td>\n",
       "      <td>-1.4563</td>\n",
       "      <td>-0.2261</td>\n",
       "      <td>0.1412</td>\n",
       "      <td>0.6596</td>\n",
       "      <td>0.7872</td>\n",
       "      <td>0.7204</td>\n",
       "      <td>27.7343</td>\n",
       "      <td>6.6389</td>\n",
       "      <td>9.9690</td>\n",
       "    </tr>\n",
       "    <tr>\n",
       "      <th>...</th>\n",
       "      <td>...</td>\n",
       "      <td>...</td>\n",
       "      <td>...</td>\n",
       "      <td>...</td>\n",
       "      <td>...</td>\n",
       "      <td>...</td>\n",
       "      <td>...</td>\n",
       "      <td>...</td>\n",
       "      <td>...</td>\n",
       "      <td>...</td>\n",
       "      <td>...</td>\n",
       "      <td>...</td>\n",
       "      <td>...</td>\n",
       "      <td>...</td>\n",
       "      <td>...</td>\n",
       "      <td>...</td>\n",
       "      <td>...</td>\n",
       "      <td>...</td>\n",
       "      <td>...</td>\n",
       "      <td>...</td>\n",
       "      <td>...</td>\n",
       "    </tr>\n",
       "    <tr>\n",
       "      <th>11HRWYT_22219_210681_172</th>\n",
       "      <td>-0.6633</td>\n",
       "      <td>-0.7722</td>\n",
       "      <td>-0.2172</td>\n",
       "      <td>-0.4170</td>\n",
       "      <td>-0.4257</td>\n",
       "      <td>-0.6214</td>\n",
       "      <td>-0.7772</td>\n",
       "      <td>0.7264</td>\n",
       "      <td>0.5801</td>\n",
       "      <td>2.5586</td>\n",
       "      <td>...</td>\n",
       "      <td>0.9418</td>\n",
       "      <td>0.2826</td>\n",
       "      <td>1.0681</td>\n",
       "      <td>0.8708</td>\n",
       "      <td>0.6494</td>\n",
       "      <td>0.5168</td>\n",
       "      <td>-0.5396</td>\n",
       "      <td>17.7532</td>\n",
       "      <td>2.9906</td>\n",
       "      <td>13.4305</td>\n",
       "    </tr>\n",
       "    <tr>\n",
       "      <th>7HTYWT_22501_92561_51</th>\n",
       "      <td>0.0020</td>\n",
       "      <td>-0.0018</td>\n",
       "      <td>-0.0004</td>\n",
       "      <td>0.0002</td>\n",
       "      <td>0.0058</td>\n",
       "      <td>-0.0027</td>\n",
       "      <td>-0.0013</td>\n",
       "      <td>-0.0018</td>\n",
       "      <td>-0.0033</td>\n",
       "      <td>-0.0014</td>\n",
       "      <td>...</td>\n",
       "      <td>-0.0064</td>\n",
       "      <td>0.0011</td>\n",
       "      <td>-0.0038</td>\n",
       "      <td>-0.0067</td>\n",
       "      <td>-0.0087</td>\n",
       "      <td>-0.0077</td>\n",
       "      <td>0.0042</td>\n",
       "      <td>0.5120</td>\n",
       "      <td>5.4892</td>\n",
       "      <td>-2.6368</td>\n",
       "    </tr>\n",
       "    <tr>\n",
       "      <th>23ESWYT_20012_90670_90</th>\n",
       "      <td>-0.6834</td>\n",
       "      <td>-0.7340</td>\n",
       "      <td>-0.4704</td>\n",
       "      <td>0.4226</td>\n",
       "      <td>0.3489</td>\n",
       "      <td>-0.1411</td>\n",
       "      <td>-0.2097</td>\n",
       "      <td>-0.8474</td>\n",
       "      <td>-0.9535</td>\n",
       "      <td>-0.9067</td>\n",
       "      <td>...</td>\n",
       "      <td>-0.9649</td>\n",
       "      <td>1.7754</td>\n",
       "      <td>-1.1664</td>\n",
       "      <td>-1.3376</td>\n",
       "      <td>-0.8528</td>\n",
       "      <td>-0.0354</td>\n",
       "      <td>0.7375</td>\n",
       "      <td>-30.2721</td>\n",
       "      <td>-5.2811</td>\n",
       "      <td>6.4874</td>\n",
       "    </tr>\n",
       "    <tr>\n",
       "      <th>18SAWYT_51003_476048_83</th>\n",
       "      <td>-0.1053</td>\n",
       "      <td>0.1488</td>\n",
       "      <td>-0.1827</td>\n",
       "      <td>-0.0623</td>\n",
       "      <td>-0.1802</td>\n",
       "      <td>-0.0082</td>\n",
       "      <td>0.0647</td>\n",
       "      <td>-0.5851</td>\n",
       "      <td>-0.2533</td>\n",
       "      <td>0.3473</td>\n",
       "      <td>...</td>\n",
       "      <td>-0.2401</td>\n",
       "      <td>-0.6032</td>\n",
       "      <td>-0.6406</td>\n",
       "      <td>-0.4036</td>\n",
       "      <td>-0.3623</td>\n",
       "      <td>-0.0242</td>\n",
       "      <td>-0.7930</td>\n",
       "      <td>-22.2284</td>\n",
       "      <td>16.1115</td>\n",
       "      <td>-2.9130</td>\n",
       "    </tr>\n",
       "    <tr>\n",
       "      <th>21ESWYT_19116_65178_248</th>\n",
       "      <td>-0.6541</td>\n",
       "      <td>-0.7466</td>\n",
       "      <td>-0.7203</td>\n",
       "      <td>-0.7065</td>\n",
       "      <td>-0.6279</td>\n",
       "      <td>-0.5353</td>\n",
       "      <td>-0.7872</td>\n",
       "      <td>-0.8554</td>\n",
       "      <td>-0.9492</td>\n",
       "      <td>-0.8976</td>\n",
       "      <td>...</td>\n",
       "      <td>0.4624</td>\n",
       "      <td>-0.0619</td>\n",
       "      <td>0.3300</td>\n",
       "      <td>0.4817</td>\n",
       "      <td>0.7312</td>\n",
       "      <td>0.7872</td>\n",
       "      <td>-0.7418</td>\n",
       "      <td>4.9543</td>\n",
       "      <td>-13.3877</td>\n",
       "      <td>2.5108</td>\n",
       "    </tr>\n",
       "  </tbody>\n",
       "</table>\n",
       "<p>25430 rows × 220 columns</p>\n",
       "</div>"
      ],
      "text/plain": [
       "                          (total_precipitation, 0)  (total_precipitation, 1)  \\\n",
       "Unique_ID                                                                      \n",
       "22SAWYT_22234_537241_108                    0.0056                    0.7018   \n",
       "5HTYWT_10028_49434_555                     -0.5043                   -0.4232   \n",
       "12SAWYT_10002_279819_57                     0.0020                   -0.0018   \n",
       "9HRWYT_50208_43142_1942                     1.1107                    0.3047   \n",
       "35ESWYT_20002_540618_69                     1.6555                    1.3818   \n",
       "...                                            ...                       ...   \n",
       "11HRWYT_22219_210681_172                   -0.6633                   -0.7722   \n",
       "7HTYWT_22501_92561_51                       0.0020                   -0.0018   \n",
       "23ESWYT_20012_90670_90                     -0.6834                   -0.7340   \n",
       "18SAWYT_51003_476048_83                    -0.1053                    0.1488   \n",
       "21ESWYT_19116_65178_248                    -0.6541                   -0.7466   \n",
       "\n",
       "                          (total_precipitation, 2)  (total_precipitation, 3)  \\\n",
       "Unique_ID                                                                      \n",
       "22SAWYT_22234_537241_108                   -0.4380                   -0.4280   \n",
       "5HTYWT_10028_49434_555                     -0.2723                   -0.1033   \n",
       "12SAWYT_10002_279819_57                    -0.0004                    0.0002   \n",
       "9HRWYT_50208_43142_1942                    -0.1078                    3.3307   \n",
       "35ESWYT_20002_540618_69                     2.2232                    0.2678   \n",
       "...                                            ...                       ...   \n",
       "11HRWYT_22219_210681_172                   -0.2172                   -0.4170   \n",
       "7HTYWT_22501_92561_51                      -0.0004                    0.0002   \n",
       "23ESWYT_20012_90670_90                     -0.4704                    0.4226   \n",
       "18SAWYT_51003_476048_83                    -0.1827                   -0.0623   \n",
       "21ESWYT_19116_65178_248                    -0.7203                   -0.7065   \n",
       "\n",
       "                          (total_precipitation, 4)  (total_precipitation, 5)  \\\n",
       "Unique_ID                                                                      \n",
       "22SAWYT_22234_537241_108                   -0.3159                   -0.5770   \n",
       "5HTYWT_10028_49434_555                     -0.2280                    0.5105   \n",
       "12SAWYT_10002_279819_57                     0.0058                   -0.0027   \n",
       "9HRWYT_50208_43142_1942                    -0.2646                    0.1345   \n",
       "35ESWYT_20002_540618_69                    -0.5104                   -0.4616   \n",
       "...                                            ...                       ...   \n",
       "11HRWYT_22219_210681_172                   -0.4257                   -0.6214   \n",
       "7HTYWT_22501_92561_51                       0.0058                   -0.0027   \n",
       "23ESWYT_20012_90670_90                      0.3489                   -0.1411   \n",
       "18SAWYT_51003_476048_83                    -0.1802                   -0.0082   \n",
       "21ESWYT_19116_65178_248                    -0.6279                   -0.5353   \n",
       "\n",
       "                          (total_precipitation, 6)  (total_precipitation, 7)  \\\n",
       "Unique_ID                                                                      \n",
       "22SAWYT_22234_537241_108                   -0.5665                    0.5016   \n",
       "5HTYWT_10028_49434_555                     -0.5332                   -0.7822   \n",
       "12SAWYT_10002_279819_57                    -0.0013                   -0.0018   \n",
       "9HRWYT_50208_43142_1942                     1.1841                    0.6100   \n",
       "35ESWYT_20002_540618_69                     0.3455                   -0.3590   \n",
       "...                                            ...                       ...   \n",
       "11HRWYT_22219_210681_172                   -0.7772                    0.7264   \n",
       "7HTYWT_22501_92561_51                      -0.0013                   -0.0018   \n",
       "23ESWYT_20012_90670_90                     -0.2097                   -0.8474   \n",
       "18SAWYT_51003_476048_83                     0.0647                   -0.5851   \n",
       "21ESWYT_19116_65178_248                    -0.7872                   -0.8554   \n",
       "\n",
       "                          (total_precipitation, 8)  (total_precipitation, 9)  \\\n",
       "Unique_ID                                                                      \n",
       "22SAWYT_22234_537241_108                    2.6206                    0.3318   \n",
       "5HTYWT_10028_49434_555                     -0.9411                   -0.7927   \n",
       "12SAWYT_10002_279819_57                    -0.0033                   -0.0014   \n",
       "9HRWYT_50208_43142_1942                     0.4157                    0.9228   \n",
       "35ESWYT_20002_540618_69                    -0.6655                   -0.5672   \n",
       "...                                            ...                       ...   \n",
       "11HRWYT_22219_210681_172                    0.5801                    2.5586   \n",
       "7HTYWT_22501_92561_51                      -0.0033                   -0.0014   \n",
       "23ESWYT_20012_90670_90                     -0.9535                   -0.9067   \n",
       "18SAWYT_51003_476048_83                    -0.2533                    0.3473   \n",
       "21ESWYT_19116_65178_248                    -0.9492                   -0.8976   \n",
       "\n",
       "                          ...  (tmmn, 9)  (tmmx, 4)  (tmmx, 6)  (tmmx, 7)  \\\n",
       "Unique_ID                 ...                                               \n",
       "22SAWYT_22234_537241_108  ...     0.7523     0.8404     1.0782     0.7055   \n",
       "5HTYWT_10028_49434_555    ...    -0.2735    -0.3408     0.2491     0.1898   \n",
       "12SAWYT_10002_279819_57   ...    -0.0064     0.0011    -0.0038    -0.0067   \n",
       "9HRWYT_50208_43142_1942   ...    -0.0059     1.3817     0.8861     0.7152   \n",
       "35ESWYT_20002_540618_69   ...     0.6854    -1.4563    -0.2261     0.1412   \n",
       "...                       ...        ...        ...        ...        ...   \n",
       "11HRWYT_22219_210681_172  ...     0.9418     0.2826     1.0681     0.8708   \n",
       "7HTYWT_22501_92561_51     ...    -0.0064     0.0011    -0.0038    -0.0067   \n",
       "23ESWYT_20012_90670_90    ...    -0.9649     1.7754    -1.1664    -1.3376   \n",
       "18SAWYT_51003_476048_83   ...    -0.2401    -0.6032    -0.6406    -0.4036   \n",
       "21ESWYT_19116_65178_248   ...     0.4624    -0.0619     0.3300     0.4817   \n",
       "\n",
       "                          (tmmx, 8)  (tmmx, 9)  (av_altitude, 0)     PC_0  \\\n",
       "Unique_ID                                                                   \n",
       "22SAWYT_22234_537241_108     0.4450     0.2125           -0.3545  15.7189   \n",
       "5HTYWT_10028_49434_555       0.2611    -0.2496           -0.6734 -58.0349   \n",
       "12SAWYT_10002_279819_57     -0.0087    -0.0077            0.0042  16.7560   \n",
       "9HRWYT_50208_43142_1942      0.4757     0.2012           -0.3716 -49.0333   \n",
       "35ESWYT_20002_540618_69      0.6596     0.7872            0.7204  27.7343   \n",
       "...                             ...        ...               ...      ...   \n",
       "11HRWYT_22219_210681_172     0.6494     0.5168           -0.5396  17.7532   \n",
       "7HTYWT_22501_92561_51       -0.0087    -0.0077            0.0042   0.5120   \n",
       "23ESWYT_20012_90670_90      -0.8528    -0.0354            0.7375 -30.2721   \n",
       "18SAWYT_51003_476048_83     -0.3623    -0.0242           -0.7930 -22.2284   \n",
       "21ESWYT_19116_65178_248      0.7312     0.7872           -0.7418   4.9543   \n",
       "\n",
       "                             PC_2     PC_3  \n",
       "Unique_ID                                   \n",
       "22SAWYT_22234_537241_108   3.4841   5.1789  \n",
       "5HTYWT_10028_49434_555   -10.3797  12.7657  \n",
       "12SAWYT_10002_279819_57   -9.7273  13.2519  \n",
       "9HRWYT_50208_43142_1942   -4.7105 -13.7896  \n",
       "35ESWYT_20002_540618_69    6.6389   9.9690  \n",
       "...                           ...      ...  \n",
       "11HRWYT_22219_210681_172   2.9906  13.4305  \n",
       "7HTYWT_22501_92561_51      5.4892  -2.6368  \n",
       "23ESWYT_20012_90670_90    -5.2811   6.4874  \n",
       "18SAWYT_51003_476048_83   16.1115  -2.9130  \n",
       "21ESWYT_19116_65178_248  -13.3877   2.5108  \n",
       "\n",
       "[25430 rows x 220 columns]"
      ]
     },
     "execution_count": 270,
     "metadata": {
      "tags": []
     },
     "output_type": "execute_result"
    }
   ],
   "source": [
    "X_new_rf_holdout = model.transform(X_holdout_model)\n",
    "X_new_rf_holdout = pd.DataFrame(X_new_rf_holdout, index = X_holdout_model.index, columns = X_new_rf.columns)\n",
    "X_new_rf_holdout"
   ]
  },
  {
   "cell_type": "code",
   "execution_count": 271,
   "metadata": {
    "colab": {
     "base_uri": "https://localhost:8080/",
     "height": 67
    },
    "colab_type": "code",
    "id": "HFgQf5LGCU89",
    "outputId": "3b022760-b595-4313-c5a7-77219d0f532e"
   },
   "outputs": [
    {
     "name": "stdout",
     "output_type": "stream",
     "text": [
      "(122484, 220)\n",
      "(21615, 220)\n",
      "(25430, 220)\n"
     ]
    }
   ],
   "source": [
    "X_train_model = X_new_rf\n",
    "X_test_model = X_new_rf_test\n",
    "X_holdout_model = X_new_rf_holdout\n",
    "print(X_train_model.shape)\n",
    "print(X_test_model.shape)\n",
    "print(X_holdout_model.shape)"
   ]
  },
  {
   "cell_type": "markdown",
   "metadata": {
    "colab_type": "text",
    "id": "6FXeGx_Ut2el"
   },
   "source": [
    "## GridSearchCV for ML Models\n",
    "\n",
    "https://alfurka.github.io/2018-11-18-grid-search/\n",
    "\n",
    "https://colab.research.google.com/github/jakevdp/PythonDataScienceHandbook/blob/master/notebooks/05.03-Hyperparameters-and-Model-Validation.ipynb#scrollTo=OcK-JlX-ZCLo"
   ]
  },
  {
   "cell_type": "code",
   "execution_count": 4,
   "metadata": {
    "colab": {
     "base_uri": "https://localhost:8080/",
     "height": 34
    },
    "colab_type": "code",
    "id": "dwInj-3E6jH5",
    "outputId": "12b8c184-6031-4122-9862-63cd662934d4"
   },
   "outputs": [
    {
     "data": {
      "text/plain": [
       "(144099, 158)"
      ]
     },
     "execution_count": 4,
     "metadata": {},
     "output_type": "execute_result"
    }
   ],
   "source": [
    "X_build_model = pd.concat([X_train_model, X_test_model])\n",
    "X_build_model.shape"
   ]
  },
  {
   "cell_type": "code",
   "execution_count": 5,
   "metadata": {
    "colab": {
     "base_uri": "https://localhost:8080/",
     "height": 34
    },
    "colab_type": "code",
    "id": "LHmDjEan6zqV",
    "outputId": "d59c0120-e94b-4477-f62d-c4ceb06f1ca9"
   },
   "outputs": [
    {
     "data": {
      "text/plain": [
       "(144099, 1)"
      ]
     },
     "execution_count": 5,
     "metadata": {},
     "output_type": "execute_result"
    }
   ],
   "source": [
    "y_build_model = pd.concat([y_train_model, y_test_model])\n",
    "y_build_model.shape"
   ]
  },
  {
   "cell_type": "code",
   "execution_count": 6,
   "metadata": {
    "colab": {},
    "colab_type": "code",
    "id": "HVu6Kg1U5_cb"
   },
   "outputs": [],
   "source": [
    "df = pd.DataFrame([['Train', 'RF'],  ['Train', 'NN'], [\"Train\", \"XGB\"],\n",
    "                    ['Test', 'RF'],['Test','NN'], [\"Test\", \"XGB\"]],\n",
    "                   columns=[Data, 'Model']) \n",
    "\n",
    "results_grid = pd.DataFrame(index = pd.MultiIndex.from_frame(df), columns=['R','R_2','Adj_R_2','RMSE','MAE'])"
   ]
  },
  {
   "cell_type": "code",
   "execution_count": 7,
   "metadata": {
    "colab": {},
    "colab_type": "code",
    "id": "aAU9IFljTHNf"
   },
   "outputs": [],
   "source": [
    "df = pd.DataFrame([['Build', 'RF'], ['Build', 'NN'], [\"Build\", \"XGB\"],\n",
    "                    ['Holdout', 'RF'],['Holdout','NN'], [\"Holdout\", \"XGB\"]],\n",
    "                   columns=[Data, 'Model']) \n",
    "\n",
    "holdout_results_grid = pd.DataFrame(index = pd.MultiIndex.from_frame(df), columns=['R','R_2','Adj_R_2','RMSE','MAE'])"
   ]
  },
  {
   "cell_type": "code",
   "execution_count": 8,
   "metadata": {
    "colab": {
     "base_uri": "https://localhost:8080/",
     "height": 254
    },
    "colab_type": "code",
    "id": "c4JAdIRh5bhG",
    "outputId": "8a7f3e31-546a-4d98-8264-d298804f70d0"
   },
   "outputs": [
    {
     "data": {
      "text/html": [
       "<div>\n",
       "<style scoped>\n",
       "    .dataframe tbody tr th:only-of-type {\n",
       "        vertical-align: middle;\n",
       "    }\n",
       "\n",
       "    .dataframe tbody tr th {\n",
       "        vertical-align: top;\n",
       "    }\n",
       "\n",
       "    .dataframe thead th {\n",
       "        text-align: right;\n",
       "    }\n",
       "</style>\n",
       "<table border=\"1\" class=\"dataframe\">\n",
       "  <thead>\n",
       "    <tr style=\"text-align: right;\">\n",
       "      <th></th>\n",
       "      <th></th>\n",
       "      <th>R</th>\n",
       "      <th>R_2</th>\n",
       "      <th>Adj_R_2</th>\n",
       "      <th>RMSE</th>\n",
       "      <th>MAE</th>\n",
       "    </tr>\n",
       "    <tr>\n",
       "      <th>CIMMYT Environment and PCs</th>\n",
       "      <th>Model</th>\n",
       "      <th></th>\n",
       "      <th></th>\n",
       "      <th></th>\n",
       "      <th></th>\n",
       "      <th></th>\n",
       "    </tr>\n",
       "  </thead>\n",
       "  <tbody>\n",
       "    <tr>\n",
       "      <th rowspan=\"3\" valign=\"top\">Train</th>\n",
       "      <th>RF</th>\n",
       "      <td>NaN</td>\n",
       "      <td>NaN</td>\n",
       "      <td>NaN</td>\n",
       "      <td>NaN</td>\n",
       "      <td>NaN</td>\n",
       "    </tr>\n",
       "    <tr>\n",
       "      <th>NN</th>\n",
       "      <td>NaN</td>\n",
       "      <td>NaN</td>\n",
       "      <td>NaN</td>\n",
       "      <td>NaN</td>\n",
       "      <td>NaN</td>\n",
       "    </tr>\n",
       "    <tr>\n",
       "      <th>XGB</th>\n",
       "      <td>NaN</td>\n",
       "      <td>NaN</td>\n",
       "      <td>NaN</td>\n",
       "      <td>NaN</td>\n",
       "      <td>NaN</td>\n",
       "    </tr>\n",
       "    <tr>\n",
       "      <th rowspan=\"3\" valign=\"top\">Test</th>\n",
       "      <th>RF</th>\n",
       "      <td>NaN</td>\n",
       "      <td>NaN</td>\n",
       "      <td>NaN</td>\n",
       "      <td>NaN</td>\n",
       "      <td>NaN</td>\n",
       "    </tr>\n",
       "    <tr>\n",
       "      <th>NN</th>\n",
       "      <td>NaN</td>\n",
       "      <td>NaN</td>\n",
       "      <td>NaN</td>\n",
       "      <td>NaN</td>\n",
       "      <td>NaN</td>\n",
       "    </tr>\n",
       "    <tr>\n",
       "      <th>XGB</th>\n",
       "      <td>NaN</td>\n",
       "      <td>NaN</td>\n",
       "      <td>NaN</td>\n",
       "      <td>NaN</td>\n",
       "      <td>NaN</td>\n",
       "    </tr>\n",
       "  </tbody>\n",
       "</table>\n",
       "</div>"
      ],
      "text/plain": [
       "                                    R  R_2 Adj_R_2 RMSE  MAE\n",
       "CIMMYT Environment and PCs Model                            \n",
       "Train                      RF     NaN  NaN     NaN  NaN  NaN\n",
       "                           NN     NaN  NaN     NaN  NaN  NaN\n",
       "                           XGB    NaN  NaN     NaN  NaN  NaN\n",
       "Test                       RF     NaN  NaN     NaN  NaN  NaN\n",
       "                           NN     NaN  NaN     NaN  NaN  NaN\n",
       "                           XGB    NaN  NaN     NaN  NaN  NaN"
      ]
     },
     "execution_count": 8,
     "metadata": {},
     "output_type": "execute_result"
    }
   ],
   "source": [
    "results_grid"
   ]
  },
  {
   "cell_type": "markdown",
   "metadata": {
    "colab_type": "text",
    "id": "dm_nTpDHRY_l"
   },
   "source": [
    "### Random Forest Regression"
   ]
  },
  {
   "cell_type": "code",
   "execution_count": 9,
   "metadata": {
    "colab": {},
    "colab_type": "code",
    "id": "5tETEtNWurQC"
   },
   "outputs": [],
   "source": [
    "# https://scikit-learn.org/stable/modules/generated/sklearn.ensemble.RandomForestRegressor.html\n",
    "\n",
    "from sklearn.model_selection import GridSearchCV\n",
    "import sklearn.ensemble\n",
    "from sklearn import metrics\n",
    "\n",
    "RF = sklearn.ensemble.RandomForestRegressor(n_jobs=-1)\n",
    "\n",
    "parameters = {'min_samples_split' : [5], 'n_estimators' : [400, 600], \n",
    "              'max_depth' : [None]}\n",
    "\n",
    "rf_regressor = GridSearchCV(RF, parameters, scoring = 'neg_mean_squared_error', cv = 5)"
   ]
  },
  {
   "cell_type": "code",
   "execution_count": null,
   "metadata": {
    "colab": {
     "base_uri": "https://localhost:8080/",
     "height": 34
    },
    "colab_type": "code",
    "id": "0-bWqNGA4uBY",
    "outputId": "16ff1a07-08be-41e1-8db7-2d40eebb7fd5"
   },
   "outputs": [],
   "source": [
    "import time\n",
    "start = time.time()\n",
    "\n",
    "rf_fitted = rf_regressor.fit(X_train_model, y_train_model.values.ravel())\n",
    "\n",
    "runtime = time.time() - start\n",
    "print('Total runtime was (s): {}'.format(runtime))"
   ]
  },
  {
   "cell_type": "code",
   "execution_count": null,
   "metadata": {
    "colab": {
     "base_uri": "https://localhost:8080/",
     "height": 254
    },
    "colab_type": "code",
    "id": "bb8E-zTY4wNG",
    "outputId": "39866e9f-f056-422b-e6d4-9efd4766869a"
   },
   "outputs": [],
   "source": [
    "rf_train_pred = rf_fitted.predict(X_train_model)\n",
    "\n",
    "results_grid.loc['Train','RF']['R'] = np.corrcoef(y_train_model.iloc[:,0], rf_train_pred)[0,1]\n",
    "results_grid.loc['Train','RF']['R_2'] = metrics.r2_score(y_train_model, rf_train_pred)\n",
    "results_grid.loc['Train','RF']['Adj_R_2'] = 1-(1-results_grid.loc['Train','RF']['R_2'])*(y_train_model.shape[0]-1)/(y_train_model.shape[0]-X_train_model.shape[1]-1)\n",
    "results_grid.loc['Train','RF']['RMSE'] = np.sqrt(metrics.mean_squared_error(y_train_model, rf_train_pred))\n",
    "results_grid.loc['Train','RF']['MAE'] = metrics.mean_absolute_error(y_train_model, rf_train_pred)\n",
    "\n",
    "rf_test_pred = rf_fitted.predict(X_test_model)\n",
    "\n",
    "results_grid.loc['Test','RF']['R'] = np.corrcoef(y_test_model.iloc[:,0], rf_test_pred)[0,1]\n",
    "results_grid.loc['Test','RF']['R_2'] = metrics.r2_score(y_test_model, rf_test_pred)\n",
    "results_grid.loc['Test','RF']['Adj_R_2'] = 1-(1-results_grid.loc['Test','RF']['R_2'])*(y_test_model.shape[0]-1)/(y_test_model.shape[0]-X_test_model.shape[1]-1)\n",
    "results_grid.loc['Test','RF']['RMSE'] = np.sqrt(metrics.mean_squared_error(y_test_model, rf_test_pred))\n",
    "results_grid.loc['Test','RF']['MAE'] = metrics.mean_absolute_error(y_test_model, rf_test_pred)\n",
    "\n",
    "csv_name = Data + \"_RF_Test_Results.csv\"\n",
    "results_grid.to_csv(csv_name)\n",
    "\n",
    "results_grid"
   ]
  },
  {
   "cell_type": "code",
   "execution_count": null,
   "metadata": {
    "colab": {
     "base_uri": "https://localhost:8080/",
     "height": 34
    },
    "colab_type": "code",
    "id": "u-mYfAlCAODF",
    "outputId": "8ba2d26e-0854-4e1f-fd4c-9bd97ccc9947"
   },
   "outputs": [],
   "source": [
    "rf_best_params = rf_fitted.best_params_\n",
    "filename = Data+\"_rf_best_params.txt\"\n",
    "param_text = Data + \": \" + str(rf_best_params)\n",
    "text_file = open(filename, \"w\")\n",
    "n = text_file.write(param_text)\n",
    "text_file.close()\n",
    "print(rf_best_params)"
   ]
  },
  {
   "cell_type": "code",
   "execution_count": null,
   "metadata": {
    "colab": {
     "base_uri": "https://localhost:8080/",
     "height": 402
    },
    "colab_type": "code",
    "id": "c6Tn0MfU5tDf",
    "outputId": "f998a55e-1c0d-4ed9-df95-511ae1ad0de2"
   },
   "outputs": [],
   "source": [
    "pd.DataFrame(rf_fitted.best_estimator_.feature_importances_, index=X_train_model.columns).sort_values(by=0, ascending=False)"
   ]
  },
  {
   "cell_type": "code",
   "execution_count": null,
   "metadata": {
    "colab": {
     "base_uri": "https://localhost:8080/",
     "height": 295
    },
    "colab_type": "code",
    "id": "at71PtNLtK3Q",
    "outputId": "1b6a237a-adce-4215-8551-818031637f37"
   },
   "outputs": [],
   "source": [
    "import seaborn as sns\n",
    "import matplotlib\n",
    "import matplotlib.pyplot as plt\n",
    "\n",
    "sns.scatterplot(rf_test_pred, y_test_model['GRAIN_YIELD'])\n",
    "plt.xlabel('Predicted Yield')\n",
    "plt.ylabel('Observed Yield')\n",
    "plt.title(Data+\" Random Forest Test Set\")\n",
    "plt.savefig(Data + ' RF_test_scatter.png')"
   ]
  },
  {
   "cell_type": "code",
   "execution_count": null,
   "metadata": {
    "colab": {
     "base_uri": "https://localhost:8080/",
     "height": 295
    },
    "colab_type": "code",
    "id": "IVfpIBE0tMeD",
    "outputId": "0a26293b-a426-4c2e-edc8-9fa3cb02fbd7"
   },
   "outputs": [],
   "source": [
    "sns.residplot(rf_test_pred, y_test_model['GRAIN_YIELD'])\n",
    "plt.xlabel('Predicted Yield')\n",
    "plt.ylabel('Residual')\n",
    "plt.title(Data+\" Random Forest Test Set\")\n",
    "plt.savefig(Data + ' RF_test_resid.png')"
   ]
  },
  {
   "cell_type": "markdown",
   "metadata": {
    "colab_type": "text",
    "id": "_qUmfA2UMYmD"
   },
   "source": [
    "#### Random Forest on Holdout Set"
   ]
  },
  {
   "cell_type": "code",
   "execution_count": null,
   "metadata": {
    "colab": {
     "base_uri": "https://localhost:8080/",
     "height": 34
    },
    "colab_type": "code",
    "id": "O1oClCoeqMou",
    "outputId": "cf6a0d7f-56a9-4bcd-babb-cdbe7b4719a3"
   },
   "outputs": [],
   "source": [
    "filename = Data+\"_rf_best_params.txt\"\n",
    "rf_best_params = open(filename, \"r\")\n",
    "rf_best_params = rf_best_params.read()\n",
    "\n",
    "import re\n",
    "\n",
    "rf_best_params = re.search('{(.*)}', rf_best_params)\n",
    "rf_best_params = \"{\" + str(rf_best_params.group(1)) + \"}\"\n",
    "\n",
    "import ast\n",
    "rf_best_params = ast.literal_eval(rf_best_params)\n",
    "rf_best_params"
   ]
  },
  {
   "cell_type": "code",
   "execution_count": null,
   "metadata": {
    "colab": {},
    "colab_type": "code",
    "id": "IvTLGQN1s06s"
   },
   "outputs": [],
   "source": [
    "rf_holdout_regressor = sklearn.ensemble.RandomForestRegressor(**rf_best_params, n_jobs=-1)"
   ]
  },
  {
   "cell_type": "code",
   "execution_count": null,
   "metadata": {
    "colab": {},
    "colab_type": "code",
    "id": "jfwwsGzYR_ni"
   },
   "outputs": [],
   "source": [
    "import time\n",
    "start = time.time()\n",
    "\n",
    "rf_fitted_holdout = rf_holdout_regressor.fit(X_build_model, y_build_model.values.ravel())\n",
    "\n",
    "runtime = time.time() - start\n",
    "print('Total runtime was (s): {}'.format(runtime))"
   ]
  },
  {
   "cell_type": "code",
   "execution_count": null,
   "metadata": {
    "colab": {},
    "colab_type": "code",
    "id": "S9avW4t3SVia"
   },
   "outputs": [],
   "source": [
    "rf_build_pred = rf_fitted_holdout.predict(X_build_model)\n",
    "\n",
    "holdout_results_grid.loc['Build','RF']['R'] = np.corrcoef(y_build_model.iloc[:,0], rf_build_pred)[0,1]\n",
    "holdout_results_grid.loc['Build','RF']['R_2'] = metrics.r2_score(y_build_model, rf_build_pred)\n",
    "holdout_results_grid.loc['Build','RF']['Adj_R_2'] = 1-(1-holdout_results_grid.loc['Build','RF']['R_2'])*(y_build_model.shape[0]-1)/(y_build_model.shape[0]-X_build_model.shape[1]-1)\n",
    "holdout_results_grid.loc['Build','RF']['RMSE'] = np.sqrt(metrics.mean_squared_error(y_build_model, rf_build_pred))\n",
    "holdout_results_grid.loc['Build','RF']['MAE'] = metrics.mean_absolute_error(y_build_model, rf_build_pred)\n",
    "\n",
    "rf_holdout_pred = rf_fitted_holdout.predict(X_holdout_model)\n",
    "\n",
    "holdout_results_grid.loc['Holdout','RF']['R'] = np.corrcoef(y_holdout_model.iloc[:,0], rf_holdout_pred)[0,1]\n",
    "holdout_results_grid.loc['Holdout','RF']['R_2'] = metrics.r2_score(y_holdout_model, rf_holdout_pred)\n",
    "holdout_results_grid.loc['Holdout','RF']['Adj_R_2'] = 1-(1-holdout_results_grid.loc['Holdout','RF']['R_2'])*(y_holdout_model.shape[0]-1)/(y_holdout_model.shape[0]-X_holdout_model.shape[1]-1)\n",
    "holdout_results_grid.loc['Holdout','RF']['RMSE'] = np.sqrt(metrics.mean_squared_error(y_holdout_model, rf_holdout_pred))\n",
    "holdout_results_grid.loc['Holdout','RF']['MAE'] = metrics.mean_absolute_error(y_holdout_model, rf_holdout_pred)\n",
    "\n",
    "csv_name = Data + \"_\" + str(X_holdout_model.shape[1]) + \"_RF_Holdout_Results.csv\"\n",
    "holdout_results_grid.to_csv(csv_name)\n",
    "\n",
    "holdout_results_grid"
   ]
  },
  {
   "cell_type": "code",
   "execution_count": null,
   "metadata": {
    "colab": {},
    "colab_type": "code",
    "id": "VoQcr_UUZG5Z"
   },
   "outputs": [],
   "source": [
    "sns.scatterplot(rf_holdout_pred, y_holdout_model['GRAIN_YIELD'])\n",
    "plt.title(Data+\" Random Forest Holdout Set\")\n",
    "plt.xlabel('Predicted Yield')\n",
    "plt.ylabel('Observed Yield')\n",
    "plt.savefig(Data + ' RF_holdout_scatter.png')"
   ]
  },
  {
   "cell_type": "code",
   "execution_count": null,
   "metadata": {
    "colab": {},
    "colab_type": "code",
    "id": "BJmXPtZIZHl3"
   },
   "outputs": [],
   "source": [
    "sns.residplot(rf_holdout_pred, y_holdout_model['GRAIN_YIELD'])\n",
    "plt.title(Data+\" Random Forest Holdout Set\")\n",
    "plt.xlabel('Predicted Yield')\n",
    "plt.ylabel('Residual')\n",
    "plt.savefig(Data + ' RF_holdout_resid.png')"
   ]
  },
  {
   "cell_type": "markdown",
   "metadata": {
    "colab_type": "text",
    "id": "XmX02Y7CtUIP"
   },
   "source": [
    "### Multi-Layer Perceptron"
   ]
  },
  {
   "cell_type": "code",
   "execution_count": 33,
   "metadata": {
    "colab": {},
    "colab_type": "code",
    "id": "zOAVQZ8M1p-L"
   },
   "outputs": [],
   "source": [
    "# https://scikit-neuralnetwork.readthedocs.io/en/latest/guide_model.html#example-regression\n",
    "from sklearn.neural_network import MLPRegressor\n",
    "from sklearn.model_selection import GridSearchCV\n",
    "\n",
    "nn = MLPRegressor()\n",
    "\n",
    "parameters = {'hidden_layer_sizes' : [300, 500],\n",
    "              \"alpha\": [0.0002],\n",
    "              'max_iter':[500]}\n",
    "\n",
    "nn_regressor = GridSearchCV(nn, parameters, scoring = 'neg_mean_squared_error', cv = 5)\n"
   ]
  },
  {
   "cell_type": "code",
   "execution_count": 34,
   "metadata": {
    "colab": {
     "base_uri": "https://localhost:8080/",
     "height": 34
    },
    "colab_type": "code",
    "id": "Q-tep9Sc2vUn",
    "outputId": "bd124ecb-b3a2-4ef1-ac44-28d63c74417a"
   },
   "outputs": [
    {
     "name": "stdout",
     "output_type": "stream",
     "text": [
      "Total runtime was (s): 1523.9071843624115\n"
     ]
    }
   ],
   "source": [
    "import time\n",
    "start = time.time()\n",
    "\n",
    "nn_fitted = nn_regressor.fit(X_train_model, y_train_model.values.ravel())\n",
    "\n",
    "print('Total runtime was (s): {}'.format(time.time() - start))"
   ]
  },
  {
   "cell_type": "code",
   "execution_count": 35,
   "metadata": {
    "colab": {
     "base_uri": "https://localhost:8080/",
     "height": 254
    },
    "colab_type": "code",
    "id": "pUWBo6Sf1r_a",
    "outputId": "ffec8d2c-24de-43e7-9ed2-5f870a680104"
   },
   "outputs": [
    {
     "data": {
      "text/html": [
       "<div>\n",
       "<style scoped>\n",
       "    .dataframe tbody tr th:only-of-type {\n",
       "        vertical-align: middle;\n",
       "    }\n",
       "\n",
       "    .dataframe tbody tr th {\n",
       "        vertical-align: top;\n",
       "    }\n",
       "\n",
       "    .dataframe thead th {\n",
       "        text-align: right;\n",
       "    }\n",
       "</style>\n",
       "<table border=\"1\" class=\"dataframe\">\n",
       "  <thead>\n",
       "    <tr style=\"text-align: right;\">\n",
       "      <th></th>\n",
       "      <th></th>\n",
       "      <th>R</th>\n",
       "      <th>R_2</th>\n",
       "      <th>Adj_R_2</th>\n",
       "      <th>RMSE</th>\n",
       "      <th>MAE</th>\n",
       "    </tr>\n",
       "    <tr>\n",
       "      <th>CIMMYT Environment</th>\n",
       "      <th>Model</th>\n",
       "      <th></th>\n",
       "      <th></th>\n",
       "      <th></th>\n",
       "      <th></th>\n",
       "      <th></th>\n",
       "    </tr>\n",
       "  </thead>\n",
       "  <tbody>\n",
       "    <tr>\n",
       "      <th rowspan=\"3\" valign=\"top\">Train</th>\n",
       "      <th>RF</th>\n",
       "      <td>0.9332</td>\n",
       "      <td>0.8709</td>\n",
       "      <td>0.8709</td>\n",
       "      <td>0.3593</td>\n",
       "      <td>0.2528</td>\n",
       "    </tr>\n",
       "    <tr>\n",
       "      <th>NN</th>\n",
       "      <td>0.9117</td>\n",
       "      <td>0.8291</td>\n",
       "      <td>0.829</td>\n",
       "      <td>0.4134</td>\n",
       "      <td>0.2914</td>\n",
       "    </tr>\n",
       "    <tr>\n",
       "      <th>XGB</th>\n",
       "      <td>NaN</td>\n",
       "      <td>NaN</td>\n",
       "      <td>NaN</td>\n",
       "      <td>NaN</td>\n",
       "      <td>NaN</td>\n",
       "    </tr>\n",
       "    <tr>\n",
       "      <th rowspan=\"3\" valign=\"top\">Test</th>\n",
       "      <th>RF</th>\n",
       "      <td>0.8722</td>\n",
       "      <td>0.758</td>\n",
       "      <td>0.7574</td>\n",
       "      <td>0.4919</td>\n",
       "      <td>0.3358</td>\n",
       "    </tr>\n",
       "    <tr>\n",
       "      <th>NN</th>\n",
       "      <td>0.9012</td>\n",
       "      <td>0.8063</td>\n",
       "      <td>0.8063</td>\n",
       "      <td>0.4401</td>\n",
       "      <td>0.3176</td>\n",
       "    </tr>\n",
       "    <tr>\n",
       "      <th>XGB</th>\n",
       "      <td>NaN</td>\n",
       "      <td>NaN</td>\n",
       "      <td>NaN</td>\n",
       "      <td>NaN</td>\n",
       "      <td>NaN</td>\n",
       "    </tr>\n",
       "  </tbody>\n",
       "</table>\n",
       "</div>"
      ],
      "text/plain": [
       "                               R     R_2 Adj_R_2    RMSE     MAE\n",
       "CIMMYT Environment Model                                        \n",
       "Train              RF     0.9332  0.8709  0.8709  0.3593  0.2528\n",
       "                   NN     0.9117  0.8291   0.829  0.4134  0.2914\n",
       "                   XGB       NaN     NaN     NaN     NaN     NaN\n",
       "Test               RF     0.8722   0.758  0.7574  0.4919  0.3358\n",
       "                   NN     0.9012  0.8063  0.8063  0.4401  0.3176\n",
       "                   XGB       NaN     NaN     NaN     NaN     NaN"
      ]
     },
     "execution_count": 35,
     "metadata": {},
     "output_type": "execute_result"
    }
   ],
   "source": [
    "from sklearn import metrics\n",
    "\n",
    "nn_train_pred = nn_fitted.predict(X_train_model)\n",
    "\n",
    "results_grid.loc['Train','NN']['R'] = np.corrcoef(y_train_model.iloc[:,0], nn_train_pred)[0,1]\n",
    "results_grid.loc['Train','NN']['R_2'] = metrics.r2_score(y_train_model, nn_train_pred)\n",
    "results_grid.loc['Train','NN']['Adj_R_2'] = 1-(1-results_grid.loc['Train','NN']['R_2'])*(y_train_model.shape[0]-1)/(y_train_model.shape[0]-X_train_model.shape[1]-1)\n",
    "results_grid.loc['Train','NN']['RMSE'] = np.sqrt(metrics.mean_squared_error(y_train_model, nn_train_pred))\n",
    "results_grid.loc['Train','NN']['MAE'] = metrics.mean_absolute_error(y_train_model, nn_train_pred)\n",
    "\n",
    "nn_test_pred = nn_fitted.predict(X_test_model)\n",
    "\n",
    "results_grid.loc['Test','NN']['R'] = np.corrcoef(y_test_model.iloc[:,0], nn_test_pred)[0,1]\n",
    "results_grid.loc['Test','NN']['R_2'] = metrics.r2_score(y_test_model, nn_test_pred)\n",
    "results_grid.loc['Test','NN']['Adj_R_2'] = 1-(1-results_grid.loc['Test','NN']['R_2'])*(y_train_model.shape[0]-1)/(y_train_model.shape[0]-X_train_model.shape[1]-1)\n",
    "results_grid.loc['Test','NN']['RMSE'] = np.sqrt(metrics.mean_squared_error(y_test_model, nn_test_pred))\n",
    "results_grid.loc['Test','NN']['MAE'] = metrics.mean_absolute_error(y_test_model, nn_test_pred)\n",
    "\n",
    "csv_name = Data + \"_\" + str(X_holdout_model.shape[1]) + \"_NN_Test_Results.csv\"\n",
    "results_grid.to_csv(csv_name)\n",
    "\n",
    "results_grid"
   ]
  },
  {
   "cell_type": "code",
   "execution_count": 36,
   "metadata": {
    "colab": {
     "base_uri": "https://localhost:8080/",
     "height": 34
    },
    "colab_type": "code",
    "id": "yf4r5LX8MBMi",
    "outputId": "a988ab90-2ed9-4645-e58d-a019cdd960f4"
   },
   "outputs": [
    {
     "data": {
      "text/plain": [
       "{'alpha': 0.0002, 'hidden_layer_sizes': 500, 'max_iter': 500}"
      ]
     },
     "execution_count": 36,
     "metadata": {},
     "output_type": "execute_result"
    }
   ],
   "source": [
    "nn_best_params = nn_fitted.best_params_\n",
    "filename = Data+\"_nn_best_params.txt\"\n",
    "param_text = Data + \": \" + str(nn_best_params)\n",
    "text_file = open(filename, \"w\")\n",
    "n = text_file.write(param_text)\n",
    "text_file.close()\n",
    "nn_best_params"
   ]
  },
  {
   "cell_type": "code",
   "execution_count": null,
   "metadata": {
    "colab": {},
    "colab_type": "code",
    "id": "fWLnPQvMgrK9"
   },
   "outputs": [],
   "source": [
    "# pd.DataFrame(nn_fitted.best_estimator_.coefs_.values, index=X_train_model.columns).sort_values(by=0, ascending=False)"
   ]
  },
  {
   "cell_type": "code",
   "execution_count": 37,
   "metadata": {
    "colab": {
     "base_uri": "https://localhost:8080/",
     "height": 295
    },
    "colab_type": "code",
    "id": "VrubpXBlReih",
    "outputId": "d25a8e66-f585-4596-eeca-7ece66ffdc39"
   },
   "outputs": [
    {
     "data": {
      "image/png": "[encoded data removed]",
      "text/plain": [
       "<Figure size 432x288 with 1 Axes>"
      ]
     },
     "metadata": {
      "needs_background": "light"
     },
     "output_type": "display_data"
    }
   ],
   "source": [
    "import seaborn as sns\n",
    "sns.scatterplot(nn_test_pred[nn_test_pred < 15], y_test_model['GRAIN_YIELD'][nn_test_pred < 15])\n",
    "plt.title(Data+\" MLP Test Set\")\n",
    "plt.xlabel('Predicted Yield')\n",
    "plt.ylabel('Observed Yield')\n",
    "plt.savefig(Data + ' nn_test_scatter.png')"
   ]
  },
  {
   "cell_type": "code",
   "execution_count": 38,
   "metadata": {
    "colab": {
     "base_uri": "https://localhost:8080/",
     "height": 295
    },
    "colab_type": "code",
    "id": "fitMnTZXRk4X",
    "outputId": "a0e42268-cc2c-4b24-9ebd-f16f6f1ba206"
   },
   "outputs": [
    {
     "data": {
      "image/png": "[encoded data removed]",
      "text/plain": [
       "<Figure size 432x288 with 1 Axes>"
      ]
     },
     "metadata": {
      "needs_background": "light"
     },
     "output_type": "display_data"
    }
   ],
   "source": [
    "sns.residplot(nn_test_pred[nn_test_pred < 15], y_test_model['GRAIN_YIELD'][nn_test_pred < 15])\n",
    "plt.title(Data+\" MLP Test Set\")\n",
    "plt.xlabel('Predicted Yield')\n",
    "plt.ylabel('Residual')\n",
    "plt.savefig(Data + ' nn_test_resid.png')"
   ]
  },
  {
   "cell_type": "code",
   "execution_count": null,
   "metadata": {},
   "outputs": [],
   "source": [
    "filename = Data+\"_nn_best_params.txt\"\n",
    "nn_best_params = open(filename, \"r\")\n",
    "nn_best_params = nn_best_params.read()\n",
    "\n",
    "import re\n",
    "\n",
    "nn_best_params = re.search('{(.*)}', nn_best_params)\n",
    "nn_best_params = \"{\" + str(nn_best_params.group(1)) + \"}\"\n",
    "\n",
    "import ast\n",
    "nn_best_params = ast.literal_eval(nn_best_params)\n",
    "nn_best_params"
   ]
  },
  {
   "cell_type": "code",
   "execution_count": 39,
   "metadata": {
    "colab": {},
    "colab_type": "code",
    "id": "qiw_Fx0qUBbS"
   },
   "outputs": [],
   "source": [
    "nn_holdout_regressor = MLPRegressor(**nn_best_params)"
   ]
  },
  {
   "cell_type": "code",
   "execution_count": 40,
   "metadata": {
    "colab": {
     "base_uri": "https://localhost:8080/",
     "height": 34
    },
    "colab_type": "code",
    "id": "1UnDxCQJUCbW",
    "outputId": "9185ec66-f052-4210-91f2-15b2dddbfcb6"
   },
   "outputs": [
    {
     "name": "stdout",
     "output_type": "stream",
     "text": [
      "Total runtime was (s): 252.74102759361267\n"
     ]
    }
   ],
   "source": [
    "import time\n",
    "start = time.time()\n",
    "\n",
    "nn_fitted_holdout = nn_holdout_regressor.fit(X_build_model, y_build_model.values.ravel())\n",
    "\n",
    "runtime = time.time() - start\n",
    "print('Total runtime was (s): {}'.format(runtime))"
   ]
  },
  {
   "cell_type": "code",
   "execution_count": 41,
   "metadata": {
    "colab": {
     "base_uri": "https://localhost:8080/",
     "height": 254
    },
    "colab_type": "code",
    "id": "-q-Jd9oCUCUb",
    "outputId": "7964f982-9237-44f0-edf8-220353084201"
   },
   "outputs": [
    {
     "data": {
      "text/html": [
       "<div>\n",
       "<style scoped>\n",
       "    .dataframe tbody tr th:only-of-type {\n",
       "        vertical-align: middle;\n",
       "    }\n",
       "\n",
       "    .dataframe tbody tr th {\n",
       "        vertical-align: top;\n",
       "    }\n",
       "\n",
       "    .dataframe thead th {\n",
       "        text-align: right;\n",
       "    }\n",
       "</style>\n",
       "<table border=\"1\" class=\"dataframe\">\n",
       "  <thead>\n",
       "    <tr style=\"text-align: right;\">\n",
       "      <th></th>\n",
       "      <th></th>\n",
       "      <th>R</th>\n",
       "      <th>R_2</th>\n",
       "      <th>Adj_R_2</th>\n",
       "      <th>RMSE</th>\n",
       "      <th>MAE</th>\n",
       "    </tr>\n",
       "    <tr>\n",
       "      <th>CIMMYT Environment</th>\n",
       "      <th>Model</th>\n",
       "      <th></th>\n",
       "      <th></th>\n",
       "      <th></th>\n",
       "      <th></th>\n",
       "      <th></th>\n",
       "    </tr>\n",
       "  </thead>\n",
       "  <tbody>\n",
       "    <tr>\n",
       "      <th rowspan=\"3\" valign=\"top\">Build</th>\n",
       "      <th>RF</th>\n",
       "      <td>0.9344</td>\n",
       "      <td>0.873</td>\n",
       "      <td>0.873</td>\n",
       "      <td>0.3563</td>\n",
       "      <td>0.2506</td>\n",
       "    </tr>\n",
       "    <tr>\n",
       "      <th>NN</th>\n",
       "      <td>0.9107</td>\n",
       "      <td>0.8282</td>\n",
       "      <td>0.8281</td>\n",
       "      <td>0.4145</td>\n",
       "      <td>0.2952</td>\n",
       "    </tr>\n",
       "    <tr>\n",
       "      <th>XGB</th>\n",
       "      <td>NaN</td>\n",
       "      <td>NaN</td>\n",
       "      <td>NaN</td>\n",
       "      <td>NaN</td>\n",
       "      <td>NaN</td>\n",
       "    </tr>\n",
       "    <tr>\n",
       "      <th rowspan=\"3\" valign=\"top\">Holdout</th>\n",
       "      <th>RF</th>\n",
       "      <td>0.9106</td>\n",
       "      <td>0.8285</td>\n",
       "      <td>0.8282</td>\n",
       "      <td>0.4141</td>\n",
       "      <td>0.291</td>\n",
       "    </tr>\n",
       "    <tr>\n",
       "      <th>NN</th>\n",
       "      <td>0.9082</td>\n",
       "      <td>0.8237</td>\n",
       "      <td>0.8233</td>\n",
       "      <td>0.4198</td>\n",
       "      <td>0.3007</td>\n",
       "    </tr>\n",
       "    <tr>\n",
       "      <th>XGB</th>\n",
       "      <td>NaN</td>\n",
       "      <td>NaN</td>\n",
       "      <td>NaN</td>\n",
       "      <td>NaN</td>\n",
       "      <td>NaN</td>\n",
       "    </tr>\n",
       "  </tbody>\n",
       "</table>\n",
       "</div>"
      ],
      "text/plain": [
       "                               R     R_2 Adj_R_2    RMSE     MAE\n",
       "CIMMYT Environment Model                                        \n",
       "Build              RF     0.9344   0.873   0.873  0.3563  0.2506\n",
       "                   NN     0.9107  0.8282  0.8281  0.4145  0.2952\n",
       "                   XGB       NaN     NaN     NaN     NaN     NaN\n",
       "Holdout            RF     0.9106  0.8285  0.8282  0.4141   0.291\n",
       "                   NN     0.9082  0.8237  0.8233  0.4198  0.3007\n",
       "                   XGB       NaN     NaN     NaN     NaN     NaN"
      ]
     },
     "execution_count": 41,
     "metadata": {},
     "output_type": "execute_result"
    }
   ],
   "source": [
    "nn_build_pred = nn_fitted_holdout.predict(X_build_model)\n",
    "\n",
    "holdout_results_grid.loc['Build','NN']['R'] = np.corrcoef(y_build_model.iloc[:,0], nn_build_pred)[0,1]\n",
    "holdout_results_grid.loc['Build','NN']['R_2'] = metrics.r2_score(y_build_model, nn_build_pred)\n",
    "holdout_results_grid.loc['Build','NN']['Adj_R_2'] = 1-(1-holdout_results_grid.loc['Build','NN']['R_2'])*(y_build_model.shape[0]-1)/(y_build_model.shape[0]-X_build_model.shape[1]-1)\n",
    "holdout_results_grid.loc['Build','NN']['RMSE'] = np.sqrt(metrics.mean_squared_error(y_build_model, nn_build_pred))\n",
    "holdout_results_grid.loc['Build','NN']['MAE'] = metrics.mean_absolute_error(y_build_model, nn_build_pred)\n",
    "\n",
    "nn_holdout_pred = nn_fitted_holdout.predict(X_holdout_model)\n",
    "\n",
    "holdout_results_grid.loc['Holdout','NN']['R'] = np.corrcoef(y_holdout_model.iloc[:,0], nn_holdout_pred)[0,1]\n",
    "holdout_results_grid.loc['Holdout','NN']['R_2'] = metrics.r2_score(y_holdout_model, nn_holdout_pred)\n",
    "holdout_results_grid.loc['Holdout','NN']['Adj_R_2'] = 1-(1-holdout_results_grid.loc['Holdout','NN']['R_2'])*(y_holdout_model.shape[0]-1)/(y_holdout_model.shape[0]-X_holdout_model.shape[1]-1)\n",
    "holdout_results_grid.loc['Holdout','NN']['RMSE'] = np.sqrt(metrics.mean_squared_error(y_holdout_model, nn_holdout_pred))\n",
    "holdout_results_grid.loc['Holdout','NN']['MAE'] = metrics.mean_absolute_error(y_holdout_model, nn_holdout_pred)\n",
    "\n",
    "csv_name = Data + \"_\" + str(X_holdout_model.shape[1]) + \"_NN_Holdout_Results.csv\"\n",
    "holdout_results_grid.to_csv(csv_name)\n",
    "\n",
    "holdout_results_grid"
   ]
  },
  {
   "cell_type": "code",
   "execution_count": 42,
   "metadata": {
    "colab": {
     "base_uri": "https://localhost:8080/",
     "height": 295
    },
    "colab_type": "code",
    "id": "UjjmAnNoZX-v",
    "outputId": "78262041-8c4d-4cbf-e0ca-71c389e38953"
   },
   "outputs": [
    {
     "data": {
      "image/png": "[encoded data removed]",
      "text/plain": [
       "<Figure size 432x288 with 1 Axes>"
      ]
     },
     "metadata": {
      "needs_background": "light"
     },
     "output_type": "display_data"
    }
   ],
   "source": [
    "sns.scatterplot(nn_holdout_pred, y_holdout_model['GRAIN_YIELD'])\n",
    "plt.title(Data+\" MLP Holdout Set\")\n",
    "plt.xlabel('Predicted Yield')\n",
    "plt.ylabel('Observed Yield')\n",
    "plt.savefig(Data + ' nn_holdout_scatter.png')"
   ]
  },
  {
   "cell_type": "code",
   "execution_count": 43,
   "metadata": {
    "colab": {
     "base_uri": "https://localhost:8080/",
     "height": 295
    },
    "colab_type": "code",
    "id": "-0ccgheBZXhm",
    "outputId": "27858c04-5bbc-4300-86b1-5d3674c8a64b"
   },
   "outputs": [
    {
     "data": {
      "image/png": "[encoded data removed]",
      "text/plain": [
       "<Figure size 432x288 with 1 Axes>"
      ]
     },
     "metadata": {
      "needs_background": "light"
     },
     "output_type": "display_data"
    }
   ],
   "source": [
    "sns.residplot(nn_holdout_pred, y_holdout_model['GRAIN_YIELD'])\n",
    "plt.title(Data+\" MLP Holdout Set\")\n",
    "plt.xlabel('Predicted Yield')\n",
    "plt.ylabel('Residual')\n",
    "plt.savefig(Data + ' nn_holdout_resid.png')"
   ]
  },
  {
   "cell_type": "markdown",
   "metadata": {
    "colab_type": "text",
    "id": "Qv8zIpg9tX_D"
   },
   "source": [
    "### XGBoost Regressor\n",
    "\n",
    "Intro: https://xgboost.readthedocs.io/en/latest/get_started.html\n",
    "\n",
    "Python Package: https://xgboost.readthedocs.io/en/latest/python/index.html\n",
    "\n",
    "API: https://xgboost.readthedocs.io/en/latest/python/python_api.html\n",
    "\n",
    "Parameters: https://xgboost.readthedocs.io/en/latest/parameter.html"
   ]
  },
  {
   "cell_type": "code",
   "execution_count": 45,
   "metadata": {
    "colab": {
     "base_uri": "https://localhost:8080/",
     "height": 118
    },
    "colab_type": "code",
    "id": "pgsj9-uEC4uI",
    "outputId": "cb81ff38-ef63-4123-88ae-afd397ec2497"
   },
   "outputs": [
    {
     "name": "stdout",
     "output_type": "stream",
     "text": [
      "Collecting xgboost\n",
      "  Downloading xgboost-1.0.2-py3-none-manylinux1_x86_64.whl (109.7 MB)\n",
      "\u001b[K     |████████████████████████████████| 109.7 MB 9.8 kB/s  eta 0:00:01\n",
      "\u001b[?25hRequirement already satisfied: scipy in /opt/conda/lib/python3.7/site-packages (from xgboost) (1.4.1)\n",
      "Requirement already satisfied: numpy in /opt/conda/lib/python3.7/site-packages (from xgboost) (1.18.1)\n",
      "Installing collected packages: xgboost\n",
      "Successfully installed xgboost-1.0.2\n"
     ]
    }
   ],
   "source": [
    "!pip install xgboost"
   ]
  },
  {
   "cell_type": "code",
   "execution_count": 46,
   "metadata": {
    "colab": {},
    "colab_type": "code",
    "id": "62lnQjf9isP8"
   },
   "outputs": [],
   "source": [
    "# Fit and analyze accuracy of XG Boost Regressor\n",
    "import xgboost as xgb\n",
    "import time\n",
    "\n",
    "XGB = xgb.XGBRegressor()\n",
    "\n",
    "parameters = {'learning_rate' : [0.1], 'max_depth': [8], 'n_estimators':[400, 600]}\n",
    "\n",
    "XGB_regressor = GridSearchCV(XGB, parameters, scoring = 'neg_mean_squared_error', cv=5)\n"
   ]
  },
  {
   "cell_type": "code",
   "execution_count": 47,
   "metadata": {
    "colab": {
     "base_uri": "https://localhost:8080/",
     "height": 34
    },
    "colab_type": "code",
    "id": "idw6fGmvC1_r",
    "outputId": "5b5072cc-d78d-4c24-b224-a3498b9e97b7"
   },
   "outputs": [
    {
     "name": "stdout",
     "output_type": "stream",
     "text": [
      "Total runtime was (s): 276.0744025707245\n"
     ]
    }
   ],
   "source": [
    "start = time.time()\n",
    "\n",
    "XGB_fitted = XGB_regressor.fit(X_train_model,y_train_model)\n",
    "\n",
    "print('Total runtime was (s): {}'.format(time.time() - start))"
   ]
  },
  {
   "cell_type": "code",
   "execution_count": 48,
   "metadata": {
    "colab": {
     "base_uri": "https://localhost:8080/",
     "height": 254
    },
    "colab_type": "code",
    "id": "MqfFsD1Li4sD",
    "outputId": "9bb1a48c-fccd-4d81-c4e7-6f8278cc5e7d"
   },
   "outputs": [
    {
     "data": {
      "text/html": [
       "<div>\n",
       "<style scoped>\n",
       "    .dataframe tbody tr th:only-of-type {\n",
       "        vertical-align: middle;\n",
       "    }\n",
       "\n",
       "    .dataframe tbody tr th {\n",
       "        vertical-align: top;\n",
       "    }\n",
       "\n",
       "    .dataframe thead th {\n",
       "        text-align: right;\n",
       "    }\n",
       "</style>\n",
       "<table border=\"1\" class=\"dataframe\">\n",
       "  <thead>\n",
       "    <tr style=\"text-align: right;\">\n",
       "      <th></th>\n",
       "      <th></th>\n",
       "      <th>R</th>\n",
       "      <th>R_2</th>\n",
       "      <th>Adj_R_2</th>\n",
       "      <th>RMSE</th>\n",
       "      <th>MAE</th>\n",
       "    </tr>\n",
       "    <tr>\n",
       "      <th>CIMMYT Environment</th>\n",
       "      <th>Model</th>\n",
       "      <th></th>\n",
       "      <th></th>\n",
       "      <th></th>\n",
       "      <th></th>\n",
       "      <th></th>\n",
       "    </tr>\n",
       "  </thead>\n",
       "  <tbody>\n",
       "    <tr>\n",
       "      <th rowspan=\"3\" valign=\"top\">Train</th>\n",
       "      <th>RF</th>\n",
       "      <td>0.9332</td>\n",
       "      <td>0.8709</td>\n",
       "      <td>0.8709</td>\n",
       "      <td>0.3593</td>\n",
       "      <td>0.2528</td>\n",
       "    </tr>\n",
       "    <tr>\n",
       "      <th>NN</th>\n",
       "      <td>0.9117</td>\n",
       "      <td>0.8291</td>\n",
       "      <td>0.829</td>\n",
       "      <td>0.4134</td>\n",
       "      <td>0.2914</td>\n",
       "    </tr>\n",
       "    <tr>\n",
       "      <th>XGB</th>\n",
       "      <td>0.9332</td>\n",
       "      <td>0.8708</td>\n",
       "      <td>0.8708</td>\n",
       "      <td>0.3594</td>\n",
       "      <td>0.253</td>\n",
       "    </tr>\n",
       "    <tr>\n",
       "      <th rowspan=\"3\" valign=\"top\">Test</th>\n",
       "      <th>RF</th>\n",
       "      <td>0.8722</td>\n",
       "      <td>0.758</td>\n",
       "      <td>0.7574</td>\n",
       "      <td>0.4919</td>\n",
       "      <td>0.3358</td>\n",
       "    </tr>\n",
       "    <tr>\n",
       "      <th>NN</th>\n",
       "      <td>0.9012</td>\n",
       "      <td>0.8063</td>\n",
       "      <td>0.8063</td>\n",
       "      <td>0.4401</td>\n",
       "      <td>0.3176</td>\n",
       "    </tr>\n",
       "    <tr>\n",
       "      <th>XGB</th>\n",
       "      <td>0.872</td>\n",
       "      <td>0.7477</td>\n",
       "      <td>0.747</td>\n",
       "      <td>0.5023</td>\n",
       "      <td>0.368</td>\n",
       "    </tr>\n",
       "  </tbody>\n",
       "</table>\n",
       "</div>"
      ],
      "text/plain": [
       "                               R     R_2 Adj_R_2    RMSE     MAE\n",
       "CIMMYT Environment Model                                        \n",
       "Train              RF     0.9332  0.8709  0.8709  0.3593  0.2528\n",
       "                   NN     0.9117  0.8291   0.829  0.4134  0.2914\n",
       "                   XGB    0.9332  0.8708  0.8708  0.3594   0.253\n",
       "Test               RF     0.8722   0.758  0.7574  0.4919  0.3358\n",
       "                   NN     0.9012  0.8063  0.8063  0.4401  0.3176\n",
       "                   XGB     0.872  0.7477   0.747  0.5023   0.368"
      ]
     },
     "execution_count": 48,
     "metadata": {},
     "output_type": "execute_result"
    }
   ],
   "source": [
    "XGB_train_pred = XGB_fitted.predict(X_train_model)\n",
    "\n",
    "results_grid.loc['Train','XGB']['R'] = np.corrcoef(y_train_model.iloc[:,0], XGB_train_pred)[0,1]\n",
    "results_grid.loc['Train','XGB']['R_2'] = metrics.r2_score(y_train_model, XGB_train_pred)\n",
    "results_grid.loc['Train','XGB']['Adj_R_2'] = 1-(1-results_grid.loc['Train','XGB']['R_2'])*(y_train_model.shape[0]-1)/(y_train_model.shape[0]-X_train_model.shape[1]-1)\n",
    "results_grid.loc['Train','XGB']['RMSE'] = np.sqrt(metrics.mean_squared_error(y_train_model, XGB_train_pred))\n",
    "results_grid.loc['Train','XGB']['MAE'] = metrics.mean_absolute_error(y_train_model, XGB_train_pred)\n",
    "\n",
    "XGB_test_pred = XGB_fitted.predict(X_test_model)\n",
    "\n",
    "results_grid.loc['Test','XGB']['R'] = np.corrcoef(y_test_model.iloc[:,0], XGB_test_pred)[0,1]\n",
    "results_grid.loc['Test','XGB']['R_2'] = metrics.r2_score(y_test_model, XGB_test_pred)\n",
    "results_grid.loc['Test','XGB']['Adj_R_2'] = 1-(1-results_grid.loc['Test','XGB']['R_2'])*(y_test_model.shape[0]-1)/(y_test_model.shape[0]-X_test_model.shape[1]-1)\n",
    "results_grid.loc['Test','XGB']['RMSE'] = np.sqrt(metrics.mean_squared_error(y_test_model, XGB_test_pred))\n",
    "results_grid.loc['Test','XGB']['MAE'] = metrics.mean_absolute_error(y_test_model, XGB_test_pred)\n",
    "\n",
    "csv_name = Data + \"_\" + str(X_holdout_model.shape[1]) + \"_XGB_Test_Results.csv\"\n",
    "results_grid.to_csv(csv_name)\n",
    "\n",
    "results_grid"
   ]
  },
  {
   "cell_type": "code",
   "execution_count": 49,
   "metadata": {
    "colab": {
     "base_uri": "https://localhost:8080/",
     "height": 34
    },
    "colab_type": "code",
    "id": "h96upPDWDLmv",
    "outputId": "5337d8e5-79d3-40a5-ee32-62da4447d2b1"
   },
   "outputs": [
    {
     "data": {
      "text/plain": [
       "{'learning_rate': 0.1, 'max_depth': 8, 'n_estimators': 600}"
      ]
     },
     "execution_count": 49,
     "metadata": {},
     "output_type": "execute_result"
    }
   ],
   "source": [
    "XGB_best_params = XGB_fitted.best_params_\n",
    "filename = Data+\"_XGB_best_params.txt\"\n",
    "param_text = Data + \": \" + str(XGB_best_params)\n",
    "text_file = open(filename, \"w\")\n",
    "n = text_file.write(param_text)\n",
    "text_file.close()\n",
    "XGB_best_params"
   ]
  },
  {
   "cell_type": "code",
   "execution_count": 50,
   "metadata": {
    "colab": {
     "base_uri": "https://localhost:8080/",
     "height": 295
    },
    "colab_type": "code",
    "id": "8gvZezB5Rf7X",
    "outputId": "3ac072e4-9672-440e-dc60-1973801bd93c"
   },
   "outputs": [
    {
     "data": {
      "image/png": "[encoded data removed]",
      "text/plain": [
       "<Figure size 432x288 with 1 Axes>"
      ]
     },
     "metadata": {
      "needs_background": "light"
     },
     "output_type": "display_data"
    }
   ],
   "source": [
    "import seaborn as sns\n",
    "sns.scatterplot(XGB_test_pred, y_test_model['GRAIN_YIELD'])\n",
    "plt.title(Data+\" XGBoost Test Set\")\n",
    "plt.xlabel('Predicted Yield')\n",
    "plt.ylabel('Observed Yield')\n",
    "plt.savefig(Data + ' xgb_test_scatter.png')"
   ]
  },
  {
   "cell_type": "code",
   "execution_count": 51,
   "metadata": {
    "colab": {
     "base_uri": "https://localhost:8080/",
     "height": 295
    },
    "colab_type": "code",
    "id": "0_Tnin9SRlps",
    "outputId": "0cbef97c-656c-4754-ae2b-0982ce977fe0"
   },
   "outputs": [
    {
     "data": {
      "image/png": "[encoded data removed]",
      "text/plain": [
       "<Figure size 432x288 with 1 Axes>"
      ]
     },
     "metadata": {
      "needs_background": "light"
     },
     "output_type": "display_data"
    }
   ],
   "source": [
    "sns.residplot(XGB_test_pred, y_test_model['GRAIN_YIELD'])\n",
    "plt.title(Data+\" XGBoost Test Set\")\n",
    "plt.xlabel('Predicted Yield')\n",
    "plt.ylabel('Residual')\n",
    "plt.savefig(Data + ' xgb_test_resid.png')"
   ]
  },
  {
   "cell_type": "code",
   "execution_count": 52,
   "metadata": {},
   "outputs": [
    {
     "data": {
      "text/plain": [
       "{'learning_rate': 0.1, 'max_depth': 8, 'n_estimators': 600}"
      ]
     },
     "execution_count": 52,
     "metadata": {},
     "output_type": "execute_result"
    }
   ],
   "source": [
    "filename = Data+\"_XGB_best_params.txt\"\n",
    "XGB_best_params = open(filename, \"r\")\n",
    "XGB_best_params = XGB_best_params.read()\n",
    "\n",
    "import re\n",
    "\n",
    "XGB_best_params = re.search('{(.*)}', XGB_best_params)\n",
    "XGB_best_params = \"{\" + str(XGB_best_params.group(1)) + \"}\"\n",
    "\n",
    "import ast\n",
    "XGB_best_params = ast.literal_eval(XGB_best_params)\n",
    "XGB_best_params"
   ]
  },
  {
   "cell_type": "code",
   "execution_count": 53,
   "metadata": {
    "colab": {},
    "colab_type": "code",
    "id": "Qnqz-G2pUYaM"
   },
   "outputs": [],
   "source": [
    "XGB_holdout_regressor = xgb.XGBRegressor(**XGB_best_params)"
   ]
  },
  {
   "cell_type": "code",
   "execution_count": 54,
   "metadata": {
    "colab": {
     "base_uri": "https://localhost:8080/",
     "height": 34
    },
    "colab_type": "code",
    "id": "mHx15XJJUYKX",
    "outputId": "4b89a9fe-51b4-4fa9-e190-0f93082e611b"
   },
   "outputs": [
    {
     "name": "stdout",
     "output_type": "stream",
     "text": [
      "Total runtime was (s): 42.060298919677734\n"
     ]
    }
   ],
   "source": [
    "import time\n",
    "start = time.time()\n",
    "\n",
    "XGB_fitted_holdout = XGB_holdout_regressor.fit(X_build_model, y_build_model.values.ravel())\n",
    "\n",
    "runtime = time.time() - start\n",
    "print('Total runtime was (s): {}'.format(runtime))"
   ]
  },
  {
   "cell_type": "code",
   "execution_count": 55,
   "metadata": {
    "colab": {
     "base_uri": "https://localhost:8080/",
     "height": 254
    },
    "colab_type": "code",
    "id": "JeXi_gDyUXFn",
    "outputId": "2387a27c-c34d-48a8-b22a-2b453c78a883"
   },
   "outputs": [
    {
     "data": {
      "text/html": [
       "<div>\n",
       "<style scoped>\n",
       "    .dataframe tbody tr th:only-of-type {\n",
       "        vertical-align: middle;\n",
       "    }\n",
       "\n",
       "    .dataframe tbody tr th {\n",
       "        vertical-align: top;\n",
       "    }\n",
       "\n",
       "    .dataframe thead th {\n",
       "        text-align: right;\n",
       "    }\n",
       "</style>\n",
       "<table border=\"1\" class=\"dataframe\">\n",
       "  <thead>\n",
       "    <tr style=\"text-align: right;\">\n",
       "      <th></th>\n",
       "      <th></th>\n",
       "      <th>R</th>\n",
       "      <th>R_2</th>\n",
       "      <th>Adj_R_2</th>\n",
       "      <th>RMSE</th>\n",
       "      <th>MAE</th>\n",
       "    </tr>\n",
       "    <tr>\n",
       "      <th>CIMMYT Environment</th>\n",
       "      <th>Model</th>\n",
       "      <th></th>\n",
       "      <th></th>\n",
       "      <th></th>\n",
       "      <th></th>\n",
       "      <th></th>\n",
       "    </tr>\n",
       "  </thead>\n",
       "  <tbody>\n",
       "    <tr>\n",
       "      <th rowspan=\"3\" valign=\"top\">Build</th>\n",
       "      <th>RF</th>\n",
       "      <td>0.9344</td>\n",
       "      <td>0.873</td>\n",
       "      <td>0.873</td>\n",
       "      <td>0.3563</td>\n",
       "      <td>0.2506</td>\n",
       "    </tr>\n",
       "    <tr>\n",
       "      <th>NN</th>\n",
       "      <td>0.9107</td>\n",
       "      <td>0.8282</td>\n",
       "      <td>0.8281</td>\n",
       "      <td>0.4145</td>\n",
       "      <td>0.2952</td>\n",
       "    </tr>\n",
       "    <tr>\n",
       "      <th>XGB</th>\n",
       "      <td>0.9342</td>\n",
       "      <td>0.8726</td>\n",
       "      <td>0.8725</td>\n",
       "      <td>0.3569</td>\n",
       "      <td>0.2516</td>\n",
       "    </tr>\n",
       "    <tr>\n",
       "      <th rowspan=\"3\" valign=\"top\">Holdout</th>\n",
       "      <th>RF</th>\n",
       "      <td>0.9106</td>\n",
       "      <td>0.8285</td>\n",
       "      <td>0.8282</td>\n",
       "      <td>0.4141</td>\n",
       "      <td>0.291</td>\n",
       "    </tr>\n",
       "    <tr>\n",
       "      <th>NN</th>\n",
       "      <td>0.9082</td>\n",
       "      <td>0.8237</td>\n",
       "      <td>0.8233</td>\n",
       "      <td>0.4198</td>\n",
       "      <td>0.3007</td>\n",
       "    </tr>\n",
       "    <tr>\n",
       "      <th>XGB</th>\n",
       "      <td>0.9083</td>\n",
       "      <td>0.8215</td>\n",
       "      <td>0.8211</td>\n",
       "      <td>0.4225</td>\n",
       "      <td>0.3076</td>\n",
       "    </tr>\n",
       "  </tbody>\n",
       "</table>\n",
       "</div>"
      ],
      "text/plain": [
       "                               R     R_2 Adj_R_2    RMSE     MAE\n",
       "CIMMYT Environment Model                                        \n",
       "Build              RF     0.9344   0.873   0.873  0.3563  0.2506\n",
       "                   NN     0.9107  0.8282  0.8281  0.4145  0.2952\n",
       "                   XGB    0.9342  0.8726  0.8725  0.3569  0.2516\n",
       "Holdout            RF     0.9106  0.8285  0.8282  0.4141   0.291\n",
       "                   NN     0.9082  0.8237  0.8233  0.4198  0.3007\n",
       "                   XGB    0.9083  0.8215  0.8211  0.4225  0.3076"
      ]
     },
     "execution_count": 55,
     "metadata": {},
     "output_type": "execute_result"
    }
   ],
   "source": [
    "XGB_build_pred = XGB_fitted_holdout.predict(X_build_model)\n",
    "\n",
    "holdout_results_grid.loc['Build','XGB']['R'] = np.corrcoef(y_build_model.iloc[:,0], XGB_build_pred)[0,1]\n",
    "holdout_results_grid.loc['Build','XGB']['R_2'] = metrics.r2_score(y_build_model, XGB_build_pred)\n",
    "holdout_results_grid.loc['Build','XGB']['Adj_R_2'] = 1-(1-holdout_results_grid.loc['Build','XGB']['R_2'])*(y_build_model.shape[0]-1)/(y_build_model.shape[0]-X_build_model.shape[1]-1)\n",
    "holdout_results_grid.loc['Build','XGB']['RMSE'] = np.sqrt(metrics.mean_squared_error(y_build_model, XGB_build_pred))\n",
    "holdout_results_grid.loc['Build','XGB']['MAE'] = metrics.mean_absolute_error(y_build_model, XGB_build_pred)\n",
    "\n",
    "XGB_holdout_pred = XGB_fitted_holdout.predict(X_holdout_model)\n",
    "\n",
    "holdout_results_grid.loc['Holdout','XGB']['R'] = np.corrcoef(y_holdout_model.iloc[:,0], XGB_holdout_pred)[0,1]\n",
    "holdout_results_grid.loc['Holdout','XGB']['R_2'] = metrics.r2_score(y_holdout_model, XGB_holdout_pred)\n",
    "holdout_results_grid.loc['Holdout','XGB']['Adj_R_2'] = 1-(1-holdout_results_grid.loc['Holdout','XGB']['R_2'])*(y_holdout_model.shape[0]-1)/(y_holdout_model.shape[0]-X_holdout_model.shape[1]-1)\n",
    "holdout_results_grid.loc['Holdout','XGB']['RMSE'] = np.sqrt(metrics.mean_squared_error(y_holdout_model, XGB_holdout_pred))\n",
    "holdout_results_grid.loc['Holdout','XGB']['MAE'] = metrics.mean_absolute_error(y_holdout_model, XGB_holdout_pred)\n",
    "\n",
    "csv_name = Data + \"_\" + str(X_holdout_model.shape[1]) + \"_XGB_Holdout_Results.csv\"\n",
    "holdout_results_grid.to_csv(csv_name)\n",
    "\n",
    "holdout_results_grid"
   ]
  },
  {
   "cell_type": "code",
   "execution_count": 56,
   "metadata": {
    "colab": {
     "base_uri": "https://localhost:8080/",
     "height": 295
    },
    "colab_type": "code",
    "id": "L6k6sD3QZZk5",
    "outputId": "650ddb7a-ed5f-446a-ba28-bf8482de2808"
   },
   "outputs": [
    {
     "data": {
      "image/png": "[encoded data removed]",
      "text/plain": [
       "<Figure size 432x288 with 1 Axes>"
      ]
     },
     "metadata": {
      "needs_background": "light"
     },
     "output_type": "display_data"
    }
   ],
   "source": [
    "sns.scatterplot(XGB_holdout_pred, y_holdout_model['GRAIN_YIELD'])\n",
    "plt.title(Data+\" XGBoost Holdout Set\")\n",
    "plt.xlabel('Predicted Yield')\n",
    "plt.ylabel('Observed Yield')\n",
    "plt.savefig(Data + ' xgb_holdout_scatter.png')"
   ]
  },
  {
   "cell_type": "code",
   "execution_count": 57,
   "metadata": {
    "colab": {
     "base_uri": "https://localhost:8080/",
     "height": 295
    },
    "colab_type": "code",
    "id": "tsHD2kQtZZTN",
    "outputId": "071646b7-7a33-42c4-fb02-ec70a954cdda"
   },
   "outputs": [
    {
     "data": {
      "image/png": "[encoded data removed]",
      "text/plain": [
       "<Figure size 432x288 with 1 Axes>"
      ]
     },
     "metadata": {
      "needs_background": "light"
     },
     "output_type": "display_data"
    }
   ],
   "source": [
    "sns.residplot(XGB_holdout_pred, y_holdout_model['GRAIN_YIELD'])\n",
    "plt.title(Data+\" XGBoost Holdout Set\")\n",
    "plt.xlabel('Predicted Yield')\n",
    "plt.ylabel('Residual')\n",
    "plt.savefig(Data + ' xgb_holdout_resid.png')"
   ]
  },
  {
   "cell_type": "markdown",
   "metadata": {
    "colab_type": "text",
    "id": "XvRhVubbTixD"
   },
   "source": [
    "## Other Approaches Tried"
   ]
  },
  {
   "cell_type": "markdown",
   "metadata": {
    "colab_type": "text",
    "id": "vBOiIDsctkxR"
   },
   "source": [
    "### TPOT\n",
    "\n",
    "http://epistasislab.github.io/tpot/using/#tpot-with-code"
   ]
  },
  {
   "cell_type": "code",
   "execution_count": null,
   "metadata": {
    "colab": {},
    "colab_type": "code",
    "id": "0V-tAXwntml4"
   },
   "outputs": [],
   "source": [
    "# %time\n",
    "# import tpot\n",
    "\n",
    "# tpot_regressor = tpot.TPOTRegressor(n_jobs=-1)\n",
    "\n",
    "# tpot_fitted = tpot_regressor.fit(X_train_model, y_train_model.values.ravel())"
   ]
  },
  {
   "cell_type": "code",
   "execution_count": null,
   "metadata": {
    "colab": {},
    "colab_type": "code",
    "id": "8OlzNq2GRgpH"
   },
   "outputs": [],
   "source": [
    "# import seaborn as sns\n",
    "# sns.scatterplot(rf_test_pred, y_test_model['GRAIN_YIELD'])"
   ]
  },
  {
   "cell_type": "code",
   "execution_count": null,
   "metadata": {
    "colab": {},
    "colab_type": "code",
    "id": "YQCxzBE_RmZ8"
   },
   "outputs": [],
   "source": [
    "# sns.residplot(rf_test_pred, y_test_model['GRAIN_YIELD'])"
   ]
  },
  {
   "cell_type": "markdown",
   "metadata": {
    "colab_type": "text",
    "id": "UyL2xIP3tOAe"
   },
   "source": [
    "### Gradient Boosted Regression"
   ]
  },
  {
   "cell_type": "code",
   "execution_count": null,
   "metadata": {
    "colab": {},
    "colab_type": "code",
    "id": "HJFpJtZcCfRN"
   },
   "outputs": [],
   "source": [
    "# https://scikit-learn.org/stable/modules/generated/sklearn.ensemble.GradientBoostingRegressor.html\n",
    "# GBR = sklearn.ensemble.GradientBoostingRegressor()\n",
    "\n",
    "# parameters = {'learning_rate' : [0.008, 0.01], 'n_estimators' : [300], \n",
    "#               'subsample' : [0.7], 'max_depth' : [None]}\n",
    "\n",
    "# GBR_regressor = GridSearchCV(GBR, parameters, scoring = 'neg_mean_squared_error', cv = 5)"
   ]
  },
  {
   "cell_type": "code",
   "execution_count": null,
   "metadata": {
    "colab": {
     "base_uri": "https://localhost:8080/",
     "height": 34
    },
    "colab_type": "code",
    "id": "h5U3hD4tAczc",
    "outputId": "2c53ccff-f1f7-48eb-f5bb-7e0472233fd3"
   },
   "outputs": [
    {
     "name": "stdout",
     "output_type": "stream",
     "text": [
      "Total runtime was (s): 13468.005505561829\n"
     ]
    }
   ],
   "source": [
    "# start = time.time()\n",
    "\n",
    "# GBR_fitted = GBR_regressor.fit(X_train_model, y_train_model.values.ravel())\n",
    "\n",
    "# print('Total runtime was (s): {}'.format(time.time() - start))"
   ]
  },
  {
   "cell_type": "code",
   "execution_count": null,
   "metadata": {
    "colab": {},
    "colab_type": "code",
    "id": "qqVWUDXdAZzQ"
   },
   "outputs": [],
   "source": [
    "# GBR_train_pred = GBR_fitted.predict(X_train_model)\n",
    "\n",
    "# results_grid.loc['Train','GBR']['R_2'] = metrics.r2_score(y_train_model, GBR_train_pred)\n",
    "# results_grid.loc['Train','GBR']['Adj_R_2'] = 1-(1-results_grid.loc['Train','GBR']['R_2'])*(y_train_model.shape[0]-1)/(y_train_model.shape[0]-X_train_model.shape[1]-1)\n",
    "# results_grid.loc['Train','GBR']['RMSE'] = np.sqrt(metrics.mean_squared_error(y_train_model, GBR_train_pred))\n",
    "# results_grid.loc['Train','GBR']['MAE'] = metrics.mean_absolute_error(y_train_model, GBR_train_pred)\n",
    "\n",
    "# GBR_test_pred = GBR_fitted.predict(X_test_model)\n",
    "\n",
    "# results_grid.loc['Test','GBR']['R_2'] = metrics.r2_score(y_test_model, GBR_test_pred)\n",
    "# results_grid.loc['Test','GBR']['Adj_R_2'] = 1-(1-results_grid.loc['Test','GBR']['R_2'])*(y_train_model.shape[0]-1)/(y_train_model.shape[0]-X_train_model.shape[1]-1)\n",
    "# results_grid.loc['Test','GBR']['RMSE'] = np.sqrt(metrics.mean_squared_error(y_test_model, GBR_test_pred))\n",
    "# results_grid.loc['Test','GBR']['MAE'] = metrics.mean_absolute_error(y_test_model, GBR_test_pred)\n",
    "\n",
    "# results_grid"
   ]
  },
  {
   "cell_type": "code",
   "execution_count": null,
   "metadata": {
    "colab": {
     "base_uri": "https://localhost:8080/",
     "height": 84
    },
    "colab_type": "code",
    "id": "cc7ThFMrKyLZ",
    "outputId": "013cf7d5-817e-4011-b5ff-15a48e0cca56"
   },
   "outputs": [
    {
     "data": {
      "text/plain": [
       "{'learning_rate': 0.01,\n",
       " 'max_depth': None,\n",
       " 'n_estimators': 300,\n",
       " 'subsample': 0.7}"
      ]
     },
     "execution_count": 75,
     "metadata": {
      "tags": []
     },
     "output_type": "execute_result"
    }
   ],
   "source": [
    "# GBR_fitted.best_params_"
   ]
  },
  {
   "cell_type": "code",
   "execution_count": null,
   "metadata": {
    "colab": {
     "base_uri": "https://localhost:8080/",
     "height": 282
    },
    "colab_type": "code",
    "id": "ziMroSYCRdMy",
    "outputId": "77264b93-398f-4908-e7ba-b89cd98e1343"
   },
   "outputs": [
    {
     "data": {
      "text/plain": [
       "<matplotlib.axes._subplots.AxesSubplot at 0x1e2569bddc8>"
      ]
     },
     "execution_count": 51,
     "metadata": {
      "tags": []
     },
     "output_type": "execute_result"
    },
    {
     "data": {
      "image/png": "[encoded data removed]",
      "text/plain": [
       "<Figure size 432x288 with 1 Axes>"
      ]
     },
     "metadata": {
      "needs_background": "light",
      "tags": []
     },
     "output_type": "display_data"
    }
   ],
   "source": [
    "# import seaborn as sns\n",
    "# sns.scatterplot(rf_test_pred, y_test_model['GRAIN_YIELD'])"
   ]
  },
  {
   "cell_type": "code",
   "execution_count": null,
   "metadata": {
    "colab": {
     "base_uri": "https://localhost:8080/",
     "height": 282
    },
    "colab_type": "code",
    "id": "LJruYUsbRjt5",
    "outputId": "699dc510-de22-4c6a-8fab-9bf511636cec"
   },
   "outputs": [
    {
     "data": {
      "text/plain": [
       "<matplotlib.axes._subplots.AxesSubplot at 0x1e2461c5108>"
      ]
     },
     "execution_count": 52,
     "metadata": {
      "tags": []
     },
     "output_type": "execute_result"
    },
    {
     "data": {
      "image/png": "[encoded data removed]",
      "text/plain": [
       "<Figure size 432x288 with 1 Axes>"
      ]
     },
     "metadata": {
      "needs_background": "light",
      "tags": []
     },
     "output_type": "display_data"
    }
   ],
   "source": [
    "# sns.residplot(rf_test_pred, y_test_model['GRAIN_YIELD'])"
   ]
  },
  {
   "cell_type": "markdown",
   "metadata": {
    "colab_type": "text",
    "id": "-uQo5oEDVxXm"
   },
   "source": [
    "### AutoML SKLearn\n",
    "\n",
    "https://automl.github.io/auto-sklearn/master/"
   ]
  },
  {
   "cell_type": "code",
   "execution_count": null,
   "metadata": {
    "colab": {},
    "colab_type": "code",
    "id": "KWJOg2xwV2hQ"
   },
   "outputs": [],
   "source": [
    "# import autosklearn.classification\n",
    "# import sklearn.model_selection\n",
    "# import sklearn.datasets\n",
    "# import sklearn.metrics\n",
    "# X, y = sklearn.datasets.load_digits(return_X_y=True)\n",
    "# X_train, X_test, y_train, y_test = \\\n",
    "#         sklearn.model_selection.train_test_split(X, y, random_state=1)\n",
    "# automl = autosklearn.classification.AutoSklearnClassifier()\n",
    "# automl.fit(X_train, y_train)\n",
    "# y_hat = automl.predict(X_test)\n",
    "# print(\"Accuracy score\", sklearn.metrics.accuracy_score(y_test, y_hat))"
   ]
  },
  {
   "cell_type": "markdown",
   "metadata": {
    "colab_type": "text",
    "id": "Zze4IiaatQbA"
   },
   "source": [
    "### Support Vector Regression\n",
    "\n",
    "Doesn't seem to converge."
   ]
  },
  {
   "cell_type": "code",
   "execution_count": null,
   "metadata": {
    "colab": {},
    "colab_type": "code",
    "id": "n1Pc5yj3MwdP"
   },
   "outputs": [],
   "source": [
    "# # https://scikit-learn.org/stable/auto_examples/plot_kernel_ridge_regression.html\n",
    "# from sklearn.svm import SVR\n",
    "# from sklearn.model_selection import GridSearchCV\n",
    "# from sklearn.model_selection import learning_curve\n",
    "\n",
    "# SVR = SVR()\n",
    "\n",
    "# parameters = {'C' : [1e1]}\n",
    "\n",
    "# SVR_regressor = GridSearchCV(SVR, parameters, scoring = 'neg_mean_squared_error', cv = 5)"
   ]
  },
  {
   "cell_type": "code",
   "execution_count": null,
   "metadata": {
    "colab": {},
    "colab_type": "code",
    "id": "eSyatr8mMo96"
   },
   "outputs": [],
   "source": [
    "# import time\n",
    "# start = time.time()\n",
    "\n",
    "# SVR_fitted = SVR_regressor.fit(X_train_model, y_train_model.values.ravel())\n",
    "\n",
    "# print('Total runtime was (s): {}'.format(time.time() - start))"
   ]
  },
  {
   "cell_type": "code",
   "execution_count": null,
   "metadata": {
    "colab": {},
    "colab_type": "code",
    "id": "L1pRRHGpBwGx"
   },
   "outputs": [],
   "source": [
    "# SVR_train_pred = SVR_fitted.predict(X_train_model)\n",
    "\n",
    "# results_grid.loc['Train','SVR']['R_2'] = metrics.r2_score(y_train_model, SVR_train_pred)\n",
    "# results_grid.loc['Train','SVR']['Adj_R_2'] = 1-(1-results_grid.loc['Train','SVR']['R_2'])*(y_train_model.shape[0]-1)/(y_train_model.shape[0]-X_train_model.shape[1]-1)\n",
    "# results_grid.loc['Train','SVR']['RMSE'] = np.sqrt(metrics.mean_squared_error(y_train_model, SVR_train_pred))\n",
    "# results_grid.loc['Train','SVR']['MAE'] = metrics.mean_absolute_error(y_train_model, SVR_train_pred)\n",
    "\n",
    "# SVR_test_pred = SVR_fitted.predict(X_test_model)\n",
    "\n",
    "# results_grid.loc['Test','SVR']['R_2'] = metrics.r2_score(y_test_model, SVR_test_pred)\n",
    "# results_grid.loc['Test','SVR']['Adj_R_2'] = 1-(1-results_grid.loc['Test','SVR']['R_2'])*(y_train_model.shape[0]-1)/(y_train_model.shape[0]-X_train_model.shape[1]-1)\n",
    "# results_grid.loc['Test','SVR']['RMSE'] = np.sqrt(metrics.mean_squared_error(y_test_model, SVR_test_pred))\n",
    "# results_grid.loc['Test','SVR']['MAE'] = metrics.mean_absolute_error(y_test_model, SVR_test_pred)\n",
    "\n",
    "# results_grid"
   ]
  },
  {
   "cell_type": "markdown",
   "metadata": {
    "colab_type": "text",
    "id": "sO6l4p8v2FUG"
   },
   "source": [
    "## Other Resources"
   ]
  },
  {
   "cell_type": "code",
   "execution_count": null,
   "metadata": {
    "colab": {},
    "colab_type": "code",
    "id": "qSKqF409zWJG"
   },
   "outputs": [],
   "source": [
    "# https://machinelearningmastery.com/compare-machine-learning-algorithms-python-scikit-learn/"
   ]
  },
  {
   "cell_type": "code",
   "execution_count": null,
   "metadata": {
    "colab": {},
    "colab_type": "code",
    "id": "dzyBGU6i1BtW"
   },
   "outputs": [],
   "source": [
    "# Pipelining Tutorial\n",
    "# https://towardsdatascience.com/hyper-parameter-tuning-and-model-selection-like-a-movie-star-a884b8ee8d68\n",
    "\n",
    "# Hint: If Medium gives you paywalls, \n",
    "# you can usually get around them by opening the window in incognito mode"
   ]
  },
  {
   "cell_type": "code",
   "execution_count": null,
   "metadata": {
    "colab": {},
    "colab_type": "code",
    "id": "sEshPKDgzjet"
   },
   "outputs": [],
   "source": [
    "# Gradient Boosting Regression Example\n",
    "# https://towardsdatascience.com/a-complete-machine-learning-project-walk-through-in-python-part-two-300f1f8147e2"
   ]
  },
  {
   "cell_type": "code",
   "execution_count": null,
   "metadata": {
    "colab": {},
    "colab_type": "code",
    "id": "j9gYfo6N1VLw"
   },
   "outputs": [],
   "source": [
    "# Regularized Boosting with XGBoost\n",
    "# https://www.analyticsvidhya.com/blog/2016/03/complete-guide-parameter-tuning-xgboost-with-codes-python/"
   ]
  },
  {
   "cell_type": "code",
   "execution_count": null,
   "metadata": {
    "colab": {},
    "colab_type": "code",
    "id": "Rn7bTcR31VF_"
   },
   "outputs": [],
   "source": [
    "# Speeding things up with PySpark\n",
    "# https://www.analyticsvidhya.com/blog/2019/11/build-machine-learning-pipelines-pyspark/"
   ]
  }
 ],
 "metadata": {
  "accelerator": "GPU",
  "colab": {
   "collapsed_sections": [
    "XvRhVubbTixD",
    "vBOiIDsctkxR",
    "UyL2xIP3tOAe",
    "Zze4IiaatQbA",
    "sO6l4p8v2FUG"
   ],
   "include_colab_link": true,
   "machine_shape": "hm",
   "name": "7_ML_Analysis_Holdout",
   "provenance": []
  },
  "environment": {
   "name": "common-cpu.m47",
   "type": "gcloud",
   "uri": "gcr.io/deeplearning-platform-release/base-cpu:m47"
  },
  "kernelspec": {
   "display_name": "Python 3",
   "language": "python",
   "name": "python3"
  },
  "language_info": {
   "codemirror_mode": {
    "name": "ipython",
    "version": 3
   },
   "file_extension": ".py",
   "mimetype": "text/x-python",
   "name": "python",
   "nbconvert_exporter": "python",
   "pygments_lexer": "ipython3",
   "version": "3.7.6"
  }
 },
 "nbformat": 4,
 "nbformat_minor": 4
}
